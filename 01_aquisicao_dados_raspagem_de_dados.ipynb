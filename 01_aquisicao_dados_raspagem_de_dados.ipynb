{
  "nbformat": 4,
  "nbformat_minor": 0,
  "metadata": {
    "colab": {
      "provenance": [],
      "include_colab_link": true
    },
    "kernelspec": {
      "name": "python3",
      "display_name": "Python 3"
    },
    "language_info": {
      "name": "python"
    }
  },
  "cells": [
    {
      "cell_type": "markdown",
      "metadata": {
        "id": "view-in-github",
        "colab_type": "text"
      },
      "source": [
        "<a href=\"https://colab.research.google.com/github/wellBorges/PUC_PLN/blob/main/01_aquisicao_dados_raspagem_de_dados.ipynb\" target=\"_parent\"><img src=\"https://colab.research.google.com/assets/colab-badge.svg\" alt=\"Open In Colab\"/></a>"
      ]
    },
    {
      "cell_type": "markdown",
      "source": [
        "# **Aquisição de dados com raspagem de dados**"
      ],
      "metadata": {
        "id": "R3tUTgb_kpwv"
      }
    },
    {
      "cell_type": "code",
      "source": [
        "# Instalação de pacotes para raspagem e análise de dados.\n",
        "!pip install beautifulsoup4 pandas requests"
      ],
      "metadata": {
        "id": "NB3Mmh26EKbn",
        "colab": {
          "base_uri": "https://localhost:8080/"
        },
        "outputId": "baab11c7-7b9b-4709-bd14-4e3e81f6b676"
      },
      "execution_count": 1,
      "outputs": [
        {
          "output_type": "stream",
          "name": "stdout",
          "text": [
            "Requirement already satisfied: beautifulsoup4 in /usr/local/lib/python3.10/dist-packages (4.12.3)\n",
            "Requirement already satisfied: pandas in /usr/local/lib/python3.10/dist-packages (2.0.3)\n",
            "Requirement already satisfied: requests in /usr/local/lib/python3.10/dist-packages (2.31.0)\n",
            "Requirement already satisfied: soupsieve>1.2 in /usr/local/lib/python3.10/dist-packages (from beautifulsoup4) (2.5)\n",
            "Requirement already satisfied: python-dateutil>=2.8.2 in /usr/local/lib/python3.10/dist-packages (from pandas) (2.8.2)\n",
            "Requirement already satisfied: pytz>=2020.1 in /usr/local/lib/python3.10/dist-packages (from pandas) (2023.4)\n",
            "Requirement already satisfied: tzdata>=2022.1 in /usr/local/lib/python3.10/dist-packages (from pandas) (2024.1)\n",
            "Requirement already satisfied: numpy>=1.21.0 in /usr/local/lib/python3.10/dist-packages (from pandas) (1.25.2)\n",
            "Requirement already satisfied: charset-normalizer<4,>=2 in /usr/local/lib/python3.10/dist-packages (from requests) (3.3.2)\n",
            "Requirement already satisfied: idna<4,>=2.5 in /usr/local/lib/python3.10/dist-packages (from requests) (3.7)\n",
            "Requirement already satisfied: urllib3<3,>=1.21.1 in /usr/local/lib/python3.10/dist-packages (from requests) (2.0.7)\n",
            "Requirement already satisfied: certifi>=2017.4.17 in /usr/local/lib/python3.10/dist-packages (from requests) (2024.6.2)\n",
            "Requirement already satisfied: six>=1.5 in /usr/local/lib/python3.10/dist-packages (from python-dateutil>=2.8.2->pandas) (1.16.0)\n"
          ]
        }
      ]
    },
    {
      "cell_type": "code",
      "source": [
        "# Declara define funções utilitárias utilizadas no notebook.\n",
        "import datetime\n",
        "def formata_msg(nivel, msg):\n",
        "    \"\"\"\n",
        "    Formata uma mensagem de log incluindo o nível de severidade, timestamp\n",
        "    e a mensagem.\n",
        "\n",
        "    Parâmetros:\n",
        "    - nivel (str): Nível de severidade da mensagem (ex: 'INFO', 'ERROR', 'WARNING').\n",
        "    - msg (str): A mensagem de log propriamente dita.\n",
        "\n",
        "    Retorna:\n",
        "    - str: A mensagem de log formatada.\n",
        "    \"\"\"\n",
        "    timestamp = datetime.datetime.now().strftime('%Y-%m-%d %H:%M:%S')\n",
        "\n",
        "    return f\"[{nivel}] {timestamp} - {msg}\""
      ],
      "metadata": {
        "id": "8ueIJQz8n-h6"
      },
      "execution_count": 2,
      "outputs": []
    },
    {
      "cell_type": "code",
      "source": [
        "# Importa módulos essenciais para funcionalidades do notebook.\n",
        "import os\n",
        "\n",
        "import pandas as pd\n",
        "import requests\n",
        "from bs4 import BeautifulSoup\n",
        "\n",
        "print(formata_msg(\"INFO\", \"Bibliotecas importadas com sucesso; ambiente pronto.\"))"
      ],
      "metadata": {
        "id": "QUwhf4VtH9Yb",
        "colab": {
          "base_uri": "https://localhost:8080/"
        },
        "outputId": "89feec8b-21dd-45df-e168-9eced65f408d"
      },
      "execution_count": 3,
      "outputs": [
        {
          "output_type": "stream",
          "name": "stdout",
          "text": [
            "[INFO] 2024-06-18 02:11:01 - Bibliotecas importadas com sucesso; ambiente pronto.\n"
          ]
        }
      ]
    },
    {
      "cell_type": "code",
      "source": [
        "# Define o diretório local para armazenar as bases de dados públicas coletadas.\n",
        "corpora_caminho = \"./corpora\"\n",
        "\n",
        "# Verifica se o diretório especificado já existe no ambiente do Colab.\n",
        "if not os.path.exists(corpora_caminho):\n",
        "  # Caso o diretório não exista, cria um novo diretório com o nome 'corpora'.\n",
        "  # Isso é útil para organizar os arquivos de dados baixados ou gerados.\n",
        "  print(formata_msg(\"INFO\", f\"Diretório {corpora_caminho} foi criado com sucesso.\"))\n",
        "  os.mkdir(corpora_caminho)\n",
        "else:\n",
        "  print(formata_msg(\"INFO\", f\"Diretório {corpora_caminho} já existe no sistema.\"))"
      ],
      "metadata": {
        "id": "Ld0Thaj9nqzn",
        "colab": {
          "base_uri": "https://localhost:8080/"
        },
        "outputId": "81a17165-f092-4425-febb-0d07bd64dc63"
      },
      "execution_count": 4,
      "outputs": [
        {
          "output_type": "stream",
          "name": "stdout",
          "text": [
            "[INFO] 2024-06-18 02:11:50 - Diretório ./corpora foi criado com sucesso.\n"
          ]
        }
      ]
    },
    {
      "cell_type": "markdown",
      "source": [
        "## 1. G1"
      ],
      "metadata": {
        "id": "pzFkGfrRd65P"
      }
    },
    {
      "cell_type": "markdown",
      "source": [
        "## Raspagem de dados de notícias do G1"
      ],
      "metadata": {
        "id": "q6aSu0KT4paP"
      }
    },
    {
      "cell_type": "markdown",
      "source": [
        "O G1 é um portal de notícias brasileiro mantido pelo Grupo Globo, sob a orientação da Central Globo de Jornalismo. Lançado em 18 de setembro de 2006, no ano em que a TV Globo completou 41 anos, o portal reúne conteúdos jornalísticos das diversas empresas do Grupo Globo — incluindo TV Globo, GloboNews, rádio CBN, os jornais O Globo, Extra, Valor Econômico, a revista Globo Rural, entre outros — além de produzir reportagens exclusivas em formatos de texto, fotos, áudio e vídeo.\n",
        "\n",
        "Os elementos estruturais da página principal, essenciais para a raspagem de dados, incluem as seguintes classes CSS:\n",
        "\n",
        "* **feed-post-body:** corpo da notícia;\n",
        "* **feed-post-link:** título da notícia;\n",
        "* **feed-post-body-resumo:** subtítulo da notícia (opcional).\n",
        "\n"
      ],
      "metadata": {
        "id": "c0tgNZXdnG07"
      }
    },
    {
      "cell_type": "code",
      "execution_count": 5,
      "metadata": {
        "id": "mVXqB01uDacX"
      },
      "outputs": [],
      "source": [
        "# Declara a URL do site para a raspagem de dados.\n",
        "url = \"https://g1.globo.com/\""
      ]
    },
    {
      "cell_type": "code",
      "source": [
        "# Define o nome do arquivo onde os dados serão salvos.\n",
        "noticias_arquivo = \"g1_noticias.csv\"\n",
        "\n",
        "# Usa 'os.path.join' para criar um caminho completo, garantindo compatibilidade\n",
        "# entre sistemas operacionais.\n",
        "noticias_caminho = os.path.join(corpora_caminho, noticias_arquivo)\n",
        "\n",
        "# Inicializa uma lista para armazenar os dados das notícias.\n",
        "noticias_g1 = []\n",
        "\n",
        "# Faz uma solicitação HTTP GET para a URL especificada.\n",
        "resposta = requests.get(url)\n",
        "\n",
        "# Verifica se a solicitação foi bem-sucedida (código 200).\n",
        "if resposta.status_code == 200:\n",
        "  # Processa o conteúdo da página se a solicitação for bem-sucedida.\n",
        "  pagina = resposta.content\n",
        "  soup = BeautifulSoup(pagina, 'html.parser')\n",
        "\n",
        "  # Encontra todos os elementos que correspondem ao corpo da notícia.\n",
        "  noticias = soup.findAll('div', attrs={'class': 'feed-post-body'})\n",
        "\n",
        "  # Itera sobre cada notícia encontrada.\n",
        "  for noticia in noticias:\n",
        "    # Extrai o título da notícia.\n",
        "    titulo = noticia.find('a', attrs={'class': 'feed-post-link'})\n",
        "\n",
        "    # Tenta encontrar o subtítulo da notícia.\n",
        "    subtitulo = noticia.find('div', attrs={'class': 'feed-post-body-resumo'})\n",
        "\n",
        "    # Adiciona o título, subtítulo (se houver) e o link à lista de notícias.\n",
        "    if (subtitulo):\n",
        "      noticias_g1.append([titulo.text, subtitulo.text, titulo['href']])\n",
        "    else:\n",
        "      noticias_g1.append([titulo.text, '', titulo['href']])\n",
        "\n",
        "  # Converte a lista de notícias em um DataFrame para facilitar a manipulação.\n",
        "  noticias_g1_df = pd.DataFrame(noticias_g1, columns=['titulo', 'subtitulo', 'link'])\n",
        "\n",
        "  # Salva os dados coletados no arquivo CSV especificado.\n",
        "  noticias_g1_df.to_csv(noticias_caminho, index=False)\n",
        "\n",
        "  print(formata_msg(\"INFO\", f\"Dados coletados com sucesso da URL: {url}.\"))\n",
        "  print(formata_msg(\"INFO\", f\"Os resultados foram salvos no arquivo: {noticias_arquivo}.\"))\n",
        "else:\n",
        "  print(\"Falha na solicitação, código de status:\", resposta.status_code)\n",
        "\n"
      ],
      "metadata": {
        "id": "woasdVNlm_gU",
        "colab": {
          "base_uri": "https://localhost:8080/"
        },
        "outputId": "4692bf20-7f26-498f-babf-b03c21530e00"
      },
      "execution_count": 6,
      "outputs": [
        {
          "output_type": "stream",
          "name": "stdout",
          "text": [
            "[INFO] 2024-06-18 02:21:26 - Dados coletados com sucesso da URL: https://g1.globo.com/.\n",
            "[INFO] 2024-06-18 02:21:26 - Os resultados foram salvos no arquivo: g1_noticias.csv.\n"
          ]
        }
      ]
    },
    {
      "cell_type": "code",
      "source": [
        "# Carrega os dados do arquivo CSV especificado no DataFrame 'noticias_g1_df'.\n",
        "noticias_g1_df = pd.read_csv(noticias_caminho)\n",
        "noticias_g1_df.head(10)"
      ],
      "metadata": {
        "id": "57kIS4iOsTM1",
        "colab": {
          "base_uri": "https://localhost:8080/",
          "height": 269
        },
        "outputId": "8a5e496c-8db9-4be9-81f7-4380bffed758"
      },
      "execution_count": 7,
      "outputs": [
        {
          "output_type": "execute_result",
          "data": {
            "text/plain": [
              "                                              titulo  \\\n",
              "0  Disparada do dólar deve acelerar a inflação; v...   \n",
              "1  Petrobras faz acordo para encerrar dívida; imp...   \n",
              "2  Em meio a crise climática, falta de verba afet...   \n",
              "3  Acusados de tentar sequestrar e matar Moro são...   \n",
              "4  Delegado descarta homofobia em caso de jovem m...   \n",
              "5  Incêndios no Pantanal e mais prejuízos com chu...   \n",
              "6  Menina de 5 anos é baleada a caminho da escola...   \n",
              "\n",
              "                                           subtitulo  \\\n",
              "0                                                NaN   \n",
              "1                                                NaN   \n",
              "2  Contratos de 40 dos 208 funcionários terceiriz...   \n",
              "3                                                NaN   \n",
              "4                                                NaN   \n",
              "5                                                NaN   \n",
              "6                                                NaN   \n",
              "\n",
              "                                                link  \n",
              "0  https://g1.globo.com/economia/noticia/2024/06/...  \n",
              "1  https://g1.globo.com/economia/noticia/2024/06/...  \n",
              "2  https://g1.globo.com/jornal-nacional/noticia/2...  \n",
              "3  https://g1.globo.com/sp/presidente-prudente-re...  \n",
              "4  https://g1.globo.com/sp/sao-paulo/noticia/2024...  \n",
              "5  https://g1.globo.com/podcast/resumao-diario/no...  \n",
              "6  https://g1.globo.com/rj/rio-de-janeiro/noticia...  "
            ],
            "text/html": [
              "\n",
              "  <div id=\"df-470b31ce-4042-4083-8a5a-85590846b703\" class=\"colab-df-container\">\n",
              "    <div>\n",
              "<style scoped>\n",
              "    .dataframe tbody tr th:only-of-type {\n",
              "        vertical-align: middle;\n",
              "    }\n",
              "\n",
              "    .dataframe tbody tr th {\n",
              "        vertical-align: top;\n",
              "    }\n",
              "\n",
              "    .dataframe thead th {\n",
              "        text-align: right;\n",
              "    }\n",
              "</style>\n",
              "<table border=\"1\" class=\"dataframe\">\n",
              "  <thead>\n",
              "    <tr style=\"text-align: right;\">\n",
              "      <th></th>\n",
              "      <th>titulo</th>\n",
              "      <th>subtitulo</th>\n",
              "      <th>link</th>\n",
              "    </tr>\n",
              "  </thead>\n",
              "  <tbody>\n",
              "    <tr>\n",
              "      <th>0</th>\n",
              "      <td>Disparada do dólar deve acelerar a inflação; v...</td>\n",
              "      <td>NaN</td>\n",
              "      <td>https://g1.globo.com/economia/noticia/2024/06/...</td>\n",
              "    </tr>\n",
              "    <tr>\n",
              "      <th>1</th>\n",
              "      <td>Petrobras faz acordo para encerrar dívida; imp...</td>\n",
              "      <td>NaN</td>\n",
              "      <td>https://g1.globo.com/economia/noticia/2024/06/...</td>\n",
              "    </tr>\n",
              "    <tr>\n",
              "      <th>2</th>\n",
              "      <td>Em meio a crise climática, falta de verba afet...</td>\n",
              "      <td>Contratos de 40 dos 208 funcionários terceiriz...</td>\n",
              "      <td>https://g1.globo.com/jornal-nacional/noticia/2...</td>\n",
              "    </tr>\n",
              "    <tr>\n",
              "      <th>3</th>\n",
              "      <td>Acusados de tentar sequestrar e matar Moro são...</td>\n",
              "      <td>NaN</td>\n",
              "      <td>https://g1.globo.com/sp/presidente-prudente-re...</td>\n",
              "    </tr>\n",
              "    <tr>\n",
              "      <th>4</th>\n",
              "      <td>Delegado descarta homofobia em caso de jovem m...</td>\n",
              "      <td>NaN</td>\n",
              "      <td>https://g1.globo.com/sp/sao-paulo/noticia/2024...</td>\n",
              "    </tr>\n",
              "    <tr>\n",
              "      <th>5</th>\n",
              "      <td>Incêndios no Pantanal e mais prejuízos com chu...</td>\n",
              "      <td>NaN</td>\n",
              "      <td>https://g1.globo.com/podcast/resumao-diario/no...</td>\n",
              "    </tr>\n",
              "    <tr>\n",
              "      <th>6</th>\n",
              "      <td>Menina de 5 anos é baleada a caminho da escola...</td>\n",
              "      <td>NaN</td>\n",
              "      <td>https://g1.globo.com/rj/rio-de-janeiro/noticia...</td>\n",
              "    </tr>\n",
              "  </tbody>\n",
              "</table>\n",
              "</div>\n",
              "    <div class=\"colab-df-buttons\">\n",
              "\n",
              "  <div class=\"colab-df-container\">\n",
              "    <button class=\"colab-df-convert\" onclick=\"convertToInteractive('df-470b31ce-4042-4083-8a5a-85590846b703')\"\n",
              "            title=\"Convert this dataframe to an interactive table.\"\n",
              "            style=\"display:none;\">\n",
              "\n",
              "  <svg xmlns=\"http://www.w3.org/2000/svg\" height=\"24px\" viewBox=\"0 -960 960 960\">\n",
              "    <path d=\"M120-120v-720h720v720H120Zm60-500h600v-160H180v160Zm220 220h160v-160H400v160Zm0 220h160v-160H400v160ZM180-400h160v-160H180v160Zm440 0h160v-160H620v160ZM180-180h160v-160H180v160Zm440 0h160v-160H620v160Z\"/>\n",
              "  </svg>\n",
              "    </button>\n",
              "\n",
              "  <style>\n",
              "    .colab-df-container {\n",
              "      display:flex;\n",
              "      gap: 12px;\n",
              "    }\n",
              "\n",
              "    .colab-df-convert {\n",
              "      background-color: #E8F0FE;\n",
              "      border: none;\n",
              "      border-radius: 50%;\n",
              "      cursor: pointer;\n",
              "      display: none;\n",
              "      fill: #1967D2;\n",
              "      height: 32px;\n",
              "      padding: 0 0 0 0;\n",
              "      width: 32px;\n",
              "    }\n",
              "\n",
              "    .colab-df-convert:hover {\n",
              "      background-color: #E2EBFA;\n",
              "      box-shadow: 0px 1px 2px rgba(60, 64, 67, 0.3), 0px 1px 3px 1px rgba(60, 64, 67, 0.15);\n",
              "      fill: #174EA6;\n",
              "    }\n",
              "\n",
              "    .colab-df-buttons div {\n",
              "      margin-bottom: 4px;\n",
              "    }\n",
              "\n",
              "    [theme=dark] .colab-df-convert {\n",
              "      background-color: #3B4455;\n",
              "      fill: #D2E3FC;\n",
              "    }\n",
              "\n",
              "    [theme=dark] .colab-df-convert:hover {\n",
              "      background-color: #434B5C;\n",
              "      box-shadow: 0px 1px 3px 1px rgba(0, 0, 0, 0.15);\n",
              "      filter: drop-shadow(0px 1px 2px rgba(0, 0, 0, 0.3));\n",
              "      fill: #FFFFFF;\n",
              "    }\n",
              "  </style>\n",
              "\n",
              "    <script>\n",
              "      const buttonEl =\n",
              "        document.querySelector('#df-470b31ce-4042-4083-8a5a-85590846b703 button.colab-df-convert');\n",
              "      buttonEl.style.display =\n",
              "        google.colab.kernel.accessAllowed ? 'block' : 'none';\n",
              "\n",
              "      async function convertToInteractive(key) {\n",
              "        const element = document.querySelector('#df-470b31ce-4042-4083-8a5a-85590846b703');\n",
              "        const dataTable =\n",
              "          await google.colab.kernel.invokeFunction('convertToInteractive',\n",
              "                                                    [key], {});\n",
              "        if (!dataTable) return;\n",
              "\n",
              "        const docLinkHtml = 'Like what you see? Visit the ' +\n",
              "          '<a target=\"_blank\" href=https://colab.research.google.com/notebooks/data_table.ipynb>data table notebook</a>'\n",
              "          + ' to learn more about interactive tables.';\n",
              "        element.innerHTML = '';\n",
              "        dataTable['output_type'] = 'display_data';\n",
              "        await google.colab.output.renderOutput(dataTable, element);\n",
              "        const docLink = document.createElement('div');\n",
              "        docLink.innerHTML = docLinkHtml;\n",
              "        element.appendChild(docLink);\n",
              "      }\n",
              "    </script>\n",
              "  </div>\n",
              "\n",
              "\n",
              "<div id=\"df-171ea0b5-8979-40e1-9687-07469a89ea03\">\n",
              "  <button class=\"colab-df-quickchart\" onclick=\"quickchart('df-171ea0b5-8979-40e1-9687-07469a89ea03')\"\n",
              "            title=\"Suggest charts\"\n",
              "            style=\"display:none;\">\n",
              "\n",
              "<svg xmlns=\"http://www.w3.org/2000/svg\" height=\"24px\"viewBox=\"0 0 24 24\"\n",
              "     width=\"24px\">\n",
              "    <g>\n",
              "        <path d=\"M19 3H5c-1.1 0-2 .9-2 2v14c0 1.1.9 2 2 2h14c1.1 0 2-.9 2-2V5c0-1.1-.9-2-2-2zM9 17H7v-7h2v7zm4 0h-2V7h2v10zm4 0h-2v-4h2v4z\"/>\n",
              "    </g>\n",
              "</svg>\n",
              "  </button>\n",
              "\n",
              "<style>\n",
              "  .colab-df-quickchart {\n",
              "      --bg-color: #E8F0FE;\n",
              "      --fill-color: #1967D2;\n",
              "      --hover-bg-color: #E2EBFA;\n",
              "      --hover-fill-color: #174EA6;\n",
              "      --disabled-fill-color: #AAA;\n",
              "      --disabled-bg-color: #DDD;\n",
              "  }\n",
              "\n",
              "  [theme=dark] .colab-df-quickchart {\n",
              "      --bg-color: #3B4455;\n",
              "      --fill-color: #D2E3FC;\n",
              "      --hover-bg-color: #434B5C;\n",
              "      --hover-fill-color: #FFFFFF;\n",
              "      --disabled-bg-color: #3B4455;\n",
              "      --disabled-fill-color: #666;\n",
              "  }\n",
              "\n",
              "  .colab-df-quickchart {\n",
              "    background-color: var(--bg-color);\n",
              "    border: none;\n",
              "    border-radius: 50%;\n",
              "    cursor: pointer;\n",
              "    display: none;\n",
              "    fill: var(--fill-color);\n",
              "    height: 32px;\n",
              "    padding: 0;\n",
              "    width: 32px;\n",
              "  }\n",
              "\n",
              "  .colab-df-quickchart:hover {\n",
              "    background-color: var(--hover-bg-color);\n",
              "    box-shadow: 0 1px 2px rgba(60, 64, 67, 0.3), 0 1px 3px 1px rgba(60, 64, 67, 0.15);\n",
              "    fill: var(--button-hover-fill-color);\n",
              "  }\n",
              "\n",
              "  .colab-df-quickchart-complete:disabled,\n",
              "  .colab-df-quickchart-complete:disabled:hover {\n",
              "    background-color: var(--disabled-bg-color);\n",
              "    fill: var(--disabled-fill-color);\n",
              "    box-shadow: none;\n",
              "  }\n",
              "\n",
              "  .colab-df-spinner {\n",
              "    border: 2px solid var(--fill-color);\n",
              "    border-color: transparent;\n",
              "    border-bottom-color: var(--fill-color);\n",
              "    animation:\n",
              "      spin 1s steps(1) infinite;\n",
              "  }\n",
              "\n",
              "  @keyframes spin {\n",
              "    0% {\n",
              "      border-color: transparent;\n",
              "      border-bottom-color: var(--fill-color);\n",
              "      border-left-color: var(--fill-color);\n",
              "    }\n",
              "    20% {\n",
              "      border-color: transparent;\n",
              "      border-left-color: var(--fill-color);\n",
              "      border-top-color: var(--fill-color);\n",
              "    }\n",
              "    30% {\n",
              "      border-color: transparent;\n",
              "      border-left-color: var(--fill-color);\n",
              "      border-top-color: var(--fill-color);\n",
              "      border-right-color: var(--fill-color);\n",
              "    }\n",
              "    40% {\n",
              "      border-color: transparent;\n",
              "      border-right-color: var(--fill-color);\n",
              "      border-top-color: var(--fill-color);\n",
              "    }\n",
              "    60% {\n",
              "      border-color: transparent;\n",
              "      border-right-color: var(--fill-color);\n",
              "    }\n",
              "    80% {\n",
              "      border-color: transparent;\n",
              "      border-right-color: var(--fill-color);\n",
              "      border-bottom-color: var(--fill-color);\n",
              "    }\n",
              "    90% {\n",
              "      border-color: transparent;\n",
              "      border-bottom-color: var(--fill-color);\n",
              "    }\n",
              "  }\n",
              "</style>\n",
              "\n",
              "  <script>\n",
              "    async function quickchart(key) {\n",
              "      const quickchartButtonEl =\n",
              "        document.querySelector('#' + key + ' button');\n",
              "      quickchartButtonEl.disabled = true;  // To prevent multiple clicks.\n",
              "      quickchartButtonEl.classList.add('colab-df-spinner');\n",
              "      try {\n",
              "        const charts = await google.colab.kernel.invokeFunction(\n",
              "            'suggestCharts', [key], {});\n",
              "      } catch (error) {\n",
              "        console.error('Error during call to suggestCharts:', error);\n",
              "      }\n",
              "      quickchartButtonEl.classList.remove('colab-df-spinner');\n",
              "      quickchartButtonEl.classList.add('colab-df-quickchart-complete');\n",
              "    }\n",
              "    (() => {\n",
              "      let quickchartButtonEl =\n",
              "        document.querySelector('#df-171ea0b5-8979-40e1-9687-07469a89ea03 button');\n",
              "      quickchartButtonEl.style.display =\n",
              "        google.colab.kernel.accessAllowed ? 'block' : 'none';\n",
              "    })();\n",
              "  </script>\n",
              "</div>\n",
              "\n",
              "    </div>\n",
              "  </div>\n"
            ],
            "application/vnd.google.colaboratory.intrinsic+json": {
              "type": "dataframe",
              "variable_name": "noticias_g1_df",
              "summary": "{\n  \"name\": \"noticias_g1_df\",\n  \"rows\": 7,\n  \"fields\": [\n    {\n      \"column\": \"titulo\",\n      \"properties\": {\n        \"dtype\": \"string\",\n        \"num_unique_values\": 7,\n        \"samples\": [\n          \"Disparada do d\\u00f3lar deve acelerar a infla\\u00e7\\u00e3o; veja como se proteger\",\n          \"Petrobras faz acordo para encerrar d\\u00edvida; impacto ser\\u00e1 de R$ 11 bi\",\n          \"Inc\\u00eandios no Pantanal e mais preju\\u00edzos com chuvas no RS; OU\\u00c7A\"\n        ],\n        \"semantic_type\": \"\",\n        \"description\": \"\"\n      }\n    },\n    {\n      \"column\": \"subtitulo\",\n      \"properties\": {\n        \"dtype\": \"category\",\n        \"num_unique_values\": 1,\n        \"samples\": [\n          \"Contratos de 40 dos 208 funcion\\u00e1rios terceirizados venceram no s\\u00e1bado.\"\n        ],\n        \"semantic_type\": \"\",\n        \"description\": \"\"\n      }\n    },\n    {\n      \"column\": \"link\",\n      \"properties\": {\n        \"dtype\": \"string\",\n        \"num_unique_values\": 7,\n        \"samples\": [\n          \"https://g1.globo.com/economia/noticia/2024/06/17/disparada-do-dolar-deve-acelerar-a-inflacao-no-brasil-veja-como-se-proteger.ghtml\"\n        ],\n        \"semantic_type\": \"\",\n        \"description\": \"\"\n      }\n    }\n  ]\n}"
            }
          },
          "metadata": {},
          "execution_count": 7
        }
      ]
    }
  ]
}