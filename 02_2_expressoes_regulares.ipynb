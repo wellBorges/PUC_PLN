{
  "nbformat": 4,
  "nbformat_minor": 0,
  "metadata": {
    "kernelspec": {
      "display_name": "Python 3",
      "name": "python3"
    },
    "language_info": {
      "name": "python"
    },
    "colab": {
      "provenance": [],
      "include_colab_link": true
    }
  },
  "cells": [
    {
      "cell_type": "markdown",
      "metadata": {
        "id": "view-in-github",
        "colab_type": "text"
      },
      "source": [
        "<a href=\"https://colab.research.google.com/github/wellBorges/PUC_PLN/blob/main/02_2_expressoes_regulares.ipynb\" target=\"_parent\"><img src=\"https://colab.research.google.com/assets/colab-badge.svg\" alt=\"Open In Colab\"/></a>"
      ]
    },
    {
      "cell_type": "markdown",
      "metadata": {
        "id": "7Oh3sCHZU2aY"
      },
      "source": [
        "# Expressões Regulares\n",
        "\n",
        "No Python, o módulo re é a ferramenta essencial para quem deseja explorar as expressões regulares, um recurso potente para o processamento e análise de textos. Com funcionalidades diversificadas, esse módulo permite identificar, buscar e alterar padrões específicos dentro de strings, simplificando análises textuais que, de outra forma, seriam complexas e demoradas. Neste guia, exploraremos como essas capacidades se traduzem em soluções práticas para desafios comuns no universo da programação.\n",
        "\n",
        "## Métodos de pesquisa\n",
        "\n",
        "|   Método   |                                      Descrição                                     |\n",
        "|:----------|:----------------------------------------------------------------------------------|\n",
        "| match()    | Verifica se a expressão regular (RE) corresponde ao início da string.                                  |\n",
        "| search()   | Varre toda a string, procurando qualquer local onde esta expressão regular corresponda.   |\n",
        "| findall()  |Encontra todas as substrings onde a expressão regular corresponde e retorna-as em uma lista.  |\n",
        "| finditer() | Encontra todas as substrings em que a expressão regular corresponde e as retorna como um iterador. |\n",
        "\n",
        "## Métodos para modificar strings\n",
        "\n",
        "| Método  | Descrição                                                                                            |\n",
        "|---------|------------------------------------------------------------------------------------------------------|\n",
        "| split() | Divide a string em uma lista, separando-a nos pontos onde ocorre uma correspondência com a expressão regular.                |\n",
        "| sub()   | Encontra todas as substrings que correspondem à expressão regular e as substitui por uma string diferente. |\n",
        "| subn()  |  Funciona de forma semelhante ao método sub(), mas retorna a nova string e o número de substituições feitas.                 |"
      ]
    },
    {
      "cell_type": "code",
      "source": [
        "# Declara define funções utilitárias utilizadas no notebook.\n",
        "import datetime\n",
        "import sys\n",
        "def formata_msg(nivel, msg):\n",
        "    \"\"\"\n",
        "    Formata uma mensagem de log incluindo o nível de severidade, timestamp\n",
        "    e a mensagem.\n",
        "\n",
        "    Parâmetros:\n",
        "    - nivel (str): Nível de severidade da mensagem (ex: 'INFO', 'ERROR', 'WARNING').\n",
        "    - msg (str): A mensagem de log propriamente dita.\n",
        "\n",
        "    Retorna:\n",
        "    - str: A mensagem de log formatada.\n",
        "    \"\"\"\n",
        "    timestamp = datetime.datetime.now().strftime('%Y-%m-%d %H:%M:%S')\n",
        "\n",
        "    return f\"[{nivel}] {timestamp} - {msg}\"\n",
        "\n",
        "print(formata_msg(\"INFO\", \"Funções utilitárias prontas para utilização.\"))\n",
        "print(formata_msg(\"INFO\", f\"Versão do Python: {sys.version} \"))"
      ],
      "metadata": {
        "colab": {
          "base_uri": "https://localhost:8080/"
        },
        "id": "EW7hmVPuMNbq",
        "outputId": "4a57a288-3b5d-4528-f01d-bf82d477c3d0"
      },
      "execution_count": 1,
      "outputs": [
        {
          "output_type": "stream",
          "name": "stdout",
          "text": [
            "[INFO] 2024-06-19 09:24:23 - Funções utilitárias prontas para utilização.\n",
            "[INFO] 2024-06-19 09:24:23 - Versão do Python: 3.10.12 (main, Nov 20 2023, 15:14:05) [GCC 11.4.0] \n"
          ]
        }
      ]
    },
    {
      "cell_type": "code",
      "metadata": {
        "id": "VlypLoBCU2aZ"
      },
      "source": [
        "# Importa módulos essenciais para funcionalidades do notebook.\n",
        "import re"
      ],
      "execution_count": 2,
      "outputs": []
    },
    {
      "cell_type": "code",
      "source": [
        "texto = \"\"\"Transferência recebida de JOAO SILVA, conta 1234-5. Valor: R$1.500,00 em 2024-02-15.\n",
        "Pagamento confirmado para ALUGUEL, Conta 6789-0. Valor: R$800,00 em 2024-02-16.\n",
        "Depósito recebido, conta 5432-1. Valor: R$3.200,00 em 2024-02-17.\"\"\""
      ],
      "metadata": {
        "id": "beUgOO5ASa_a"
      },
      "execution_count": 3,
      "outputs": []
    },
    {
      "cell_type": "code",
      "metadata": {
        "id": "TfETR1kbU2ai",
        "colab": {
          "base_uri": "https://localhost:8080/"
        },
        "outputId": "f7b1c100-63aa-487b-ceca-663f104890fd"
      },
      "source": [
        "print(formata_msg(\"INFO\",f\"\\n{texto}\"))"
      ],
      "execution_count": 4,
      "outputs": [
        {
          "output_type": "stream",
          "name": "stdout",
          "text": [
            "[INFO] 2024-06-19 09:24:31 - \n",
            "Transferência recebida de JOAO SILVA, conta 1234-5. Valor: R$1.500,00 em 2024-02-15.\n",
            "Pagamento confirmado para ALUGUEL, Conta 6789-0. Valor: R$800,00 em 2024-02-16.\n",
            "Depósito recebido, conta 5432-1. Valor: R$3.200,00 em 2024-02-17.\n"
          ]
        }
      ]
    },
    {
      "cell_type": "markdown",
      "metadata": {
        "id": "JhDqvmbOU2ap"
      },
      "source": [
        "## Método **match()**\n",
        "O método **match()** é utilizado para verificar se uma expressão regular (RE) se alinha ao começo de uma determinada string. Esse recurso é especialmente útil em situações onde a correspondência no início do texto é esseencial para a validação ou análise dos dados em questão."
      ]
    },
    {
      "cell_type": "code",
      "metadata": {
        "id": "g_a4wIfkU2aq",
        "colab": {
          "base_uri": "https://localhost:8080/"
        },
        "outputId": "33ec78ca-668d-4609-efcc-6c39d08072f6"
      },
      "source": [
        "# A letra 'r' antes da string indica uma \"raw string\", tratando caracteres de\n",
        "# escape como caracteres comuns, útil em expressões regulares.\n",
        "padrao = r\"transferência recebida\"\n",
        "resultado = re.match(padrao, texto)\n",
        "if resultado:\n",
        "    print(formata_msg(\"INFO\", f\"Padrão '{padrao}', encontrado: {resultado.group()}\"))\n",
        "else:\n",
        "    print(formata_msg(\"ERRO\", f\"Padrão '{padrao}', não encontrado.\"))"
      ],
      "execution_count": 5,
      "outputs": [
        {
          "output_type": "stream",
          "name": "stdout",
          "text": [
            "[ERRO] 2024-06-19 09:24:37 - Padrão 'transferência recebida', não encontrado.\n"
          ]
        }
      ]
    },
    {
      "cell_type": "code",
      "metadata": {
        "colab": {
          "base_uri": "https://localhost:8080/"
        },
        "outputId": "5bb61a40-fa8b-473a-97ed-59b9b171e3d3",
        "id": "Els5JR1QWa1t"
      },
      "source": [
        "padrao = r\"[Tt]ransferência recebida\"\n",
        "resultado = re.match(padrao, texto)\n",
        "if resultado:\n",
        "    print(formata_msg(\"INFO\", f\"Padrão '{padrao}', encontrado: {resultado.group()}\"))\n",
        "else:\n",
        "    print(formata_msg(\"ERRO\", f\"Padrão '{padrao}', não encontrado.\"))"
      ],
      "execution_count": 6,
      "outputs": [
        {
          "output_type": "stream",
          "name": "stdout",
          "text": [
            "[INFO] 2024-06-19 09:25:16 - Padrão '[Tt]ransferência recebida', encontrado: Transferência recebida\n"
          ]
        }
      ]
    },
    {
      "cell_type": "code",
      "metadata": {
        "id": "pbqBQJDYU2a0",
        "colab": {
          "base_uri": "https://localhost:8080/"
        },
        "outputId": "7253dc22-90f3-465b-982e-85d08a47d750"
      },
      "source": [
        "padrao = r\"(Transferência|transferência)\"\n",
        "resultado = re.match(padrao, texto)\n",
        "if resultado:\n",
        "    print(formata_msg(\"INFO\", f\"Padrão '{padrao}', encontrado: {resultado.group()}\"))\n",
        "else:\n",
        "    print(formata_msg(\"ERRO\", f\"Padrão '{padrao}', não encontrado.\"))"
      ],
      "execution_count": 7,
      "outputs": [
        {
          "output_type": "stream",
          "name": "stdout",
          "text": [
            "[INFO] 2024-06-19 09:25:28 - Padrão '(Transferência|transferência)', encontrado: Transferência\n"
          ]
        }
      ]
    },
    {
      "cell_type": "code",
      "source": [
        "padrao = r\"transferência recebida\"\n",
        "compilado = re.compile(padrao, re.IGNORECASE)\n",
        "resultado = compilado.match(texto)\n",
        "if resultado:\n",
        "    print(formata_msg(\"INFO\", f\"Padrão '{padrao}', encontrado: {resultado.group()}\"))\n",
        "else:\n",
        "    print(formata_msg(\"ERRO\", f\"Padrão '{padrao}', não encontrado.\"))"
      ],
      "metadata": {
        "colab": {
          "base_uri": "https://localhost:8080/"
        },
        "id": "Chs5OiTEb6bd",
        "outputId": "8a2e001a-4bab-4d1c-e248-25b6f3891099"
      },
      "execution_count": 8,
      "outputs": [
        {
          "output_type": "stream",
          "name": "stdout",
          "text": [
            "[INFO] 2024-06-19 09:25:31 - Padrão 'transferência recebida', encontrado: Transferência recebida\n"
          ]
        }
      ]
    },
    {
      "cell_type": "markdown",
      "metadata": {
        "id": "0Mjq_-2UU2a4"
      },
      "source": [
        "## Método **search()**\n",
        "O método **search()** examina minuciosamente cada segmento da string para identificar pontos onde a expressão regular fornecida encontra correspondência. Diferente de match(), que se limita ao início da string, search() abrange a totalidade do texto, aumentando as chances de detecção de correspondências relevantes."
      ]
    },
    {
      "cell_type": "code",
      "metadata": {
        "id": "S6-yebBWU2a5",
        "colab": {
          "base_uri": "https://localhost:8080/"
        },
        "outputId": "b3d8f8d7-37a7-4d14-de28-ed34435e131f"
      },
      "source": [
        "padrao = r\"pagamento CONFIRMADO\"\n",
        "compilado = re.compile(padrao, re.IGNORECASE)\n",
        "resultado = compilado.search(texto)\n",
        "if resultado:\n",
        "    print(formata_msg(\"INFO\", f\"Padrão '{padrao}', encontrado: {resultado.group()}\"))\n",
        "else:\n",
        "    print(formata_msg(\"ERRO\", f\"Padrão '{padrao}', não encontrado.\"))"
      ],
      "execution_count": 9,
      "outputs": [
        {
          "output_type": "stream",
          "name": "stdout",
          "text": [
            "[INFO] 2024-06-19 09:25:36 - Padrão 'pagamento CONFIRMADO', encontrado: Pagamento confirmado\n"
          ]
        }
      ]
    },
    {
      "cell_type": "markdown",
      "metadata": {
        "id": "6SJ-je98U2bR"
      },
      "source": [
        "## Método **findall()**\n",
        "O método **findall()** realiza uma busca completa na string, identificando todas as substrings que se alinham com a expressão regular especificada. Cada correspondência encontrada é então agregada e apresentada em uma lista, facilitando a análise e o manuseio subsequente desses trechos de texto."
      ]
    },
    {
      "cell_type": "code",
      "metadata": {
        "id": "gnPd007AU2bS",
        "colab": {
          "base_uri": "https://localhost:8080/"
        },
        "outputId": "01d21108-0540-444e-f6ed-e1cce1601bb1"
      },
      "source": [
        "padrao = r\"conta\"\n",
        "resultado = re.findall(padrao, texto)\n",
        "if resultado:\n",
        "    print(formata_msg(\"INFO\", f\"Padrão '{padrao}', encontrado: {resultado}\"))\n",
        "else:\n",
        "    print(formata_msg(\"ERRO\", f\"Padrão '{padrao}', não encontrado.\"))"
      ],
      "execution_count": 10,
      "outputs": [
        {
          "output_type": "stream",
          "name": "stdout",
          "text": [
            "[INFO] 2024-06-19 09:25:41 - Padrão 'conta', encontrado: ['conta', 'conta']\n"
          ]
        }
      ]
    },
    {
      "cell_type": "code",
      "metadata": {
        "id": "J3GLBWtAU2bW",
        "colab": {
          "base_uri": "https://localhost:8080/"
        },
        "outputId": "74920ca3-24c1-4129-d0a8-2c95eba421e5"
      },
      "source": [
        "padrao = r\"conta\"\n",
        "resultado = re.findall(padrao, texto, re.I)\n",
        "if resultado:\n",
        "    print(formata_msg(\"INFO\", f\"Padrão '{padrao}', encontrado: {resultado}\"))\n",
        "else:\n",
        "    print(formata_msg(\"ERRO\", f\"Padrão '{padrao}', não encontrado.\"))"
      ],
      "execution_count": 11,
      "outputs": [
        {
          "output_type": "stream",
          "name": "stdout",
          "text": [
            "[INFO] 2024-06-19 09:25:46 - Padrão 'conta', encontrado: ['conta', 'Conta', 'conta']\n"
          ]
        }
      ]
    },
    {
      "cell_type": "code",
      "metadata": {
        "id": "jL17r7ThU2be",
        "colab": {
          "base_uri": "https://localhost:8080/"
        },
        "outputId": "eeeecc95-4b46-42b8-8e77-e9fe9335f7c9"
      },
      "source": [
        "# A expressão regular \\w+A\\w+ busca por strings que tenham pelo menos um caractere\n",
        "# alfanumérico seguido pela letra 'A' maiúscula e, em seguida, por pelo menos mais\n",
        "# um caractere alfanumérico.\n",
        "padrao = r\"\\w+A\\w+\"\n",
        "resultado = re.findall(padrao, texto)\n",
        "if resultado:\n",
        "    print(formata_msg(\"INFO\", f\"Padrão '{padrao}', encontrado: {resultado}\"))\n",
        "else:\n",
        "    print(formata_msg(\"ERRO\", f\"Padrão '{padrao}', não encontrado.\"))"
      ],
      "execution_count": 12,
      "outputs": [
        {
          "output_type": "stream",
          "name": "stdout",
          "text": [
            "[INFO] 2024-06-19 09:25:48 - Padrão '\\w+A\\w+', encontrado: ['JOAO']\n"
          ]
        }
      ]
    },
    {
      "cell_type": "code",
      "source": [
        "# A expressão regular \\w+a\\w+ busca por strings que tenham pelo menos um caractere\n",
        "# alfanumérico seguido pela letra 'a' maiúscula e, em seguida, por pelo menos mais\n",
        "# um caractere alfanumérico.\n",
        "padrao = r\"\\w+a\\w+\"\n",
        "resultado = re.findall(padrao, texto, re.I)\n",
        "if resultado:\n",
        "    print(formata_msg(\"INFO\", f\"Padrão '{padrao}', encontrado: {resultado}\"))\n",
        "else:\n",
        "    print(formata_msg(\"ERRO\", f\"Padrão '{padrao}', não encontrado.\"))"
      ],
      "metadata": {
        "colab": {
          "base_uri": "https://localhost:8080/"
        },
        "id": "Qr8M0ZM9gfU0",
        "outputId": "0fc7dd75-39b8-4401-e282-9f053f887d94"
      },
      "execution_count": 13,
      "outputs": [
        {
          "output_type": "stream",
          "name": "stdout",
          "text": [
            "[INFO] 2024-06-19 09:25:51 - Padrão '\\w+a\\w+', encontrado: ['Transferência', 'JOAO', 'Valor', 'Pagamento', 'confirmado', 'para', 'Valor', 'Valor']\n"
          ]
        }
      ]
    },
    {
      "cell_type": "code",
      "metadata": {
        "id": "KeucYfPmU2bi",
        "colab": {
          "base_uri": "https://localhost:8080/"
        },
        "outputId": "b34d2b22-55d5-4620-9c91-95f9980ab888"
      },
      "source": [
        "# A expressão regular \\w*a\\w* procura por strings que contêm a letra 'a' minúscula,\n",
        "# precedida e/ou seguida por qualquer número (incluindo zero) de caracteres alfanuméricos.\n",
        "# Isso significa que a expressão pode corresponder a uma string que contém apenas 'a',\n",
        "# ou 'a' com letras, dígitos, ou underscores em qualquer lado, como \"ba\", \"1a3\", ou\n",
        "# simplesmente \"a\".\n",
        "padrao = r\"\\w*a\\w*\"\n",
        "resultado = re.findall(padrao, texto)\n",
        "if resultado:\n",
        "    print(formata_msg(\"INFO\", f\"Padrão '{padrao}', encontrado: {resultado}\"))\n",
        "else:\n",
        "    print(formata_msg(\"ERRO\", f\"Padrão '{padrao}', não encontrado.\"))"
      ],
      "execution_count": 14,
      "outputs": [
        {
          "output_type": "stream",
          "name": "stdout",
          "text": [
            "[INFO] 2024-06-19 09:25:54 - Padrão '\\w*a\\w*', encontrado: ['Transferência', 'recebida', 'conta', 'Valor', 'Pagamento', 'confirmado', 'para', 'Conta', 'Valor', 'conta', 'Valor']\n"
          ]
        }
      ]
    },
    {
      "cell_type": "markdown",
      "metadata": {
        "id": "yeYa3aLHU2bm"
      },
      "source": [
        "## Método **finditer()**\n",
        "O método **finditer()** vasculha a string em busca de todas as ocorrências que se ajustam à expressão regular fornecida, disponibilizando os resultados através de um iterador. Essa abordagem otimiza o uso de recursos, pois permite o acesso sequencial às correspondências sem a necessidade de armazená-las todas simultaneamente na memória."
      ]
    },
    {
      "cell_type": "code",
      "metadata": {
        "id": "BLqVK0iHU2bn",
        "colab": {
          "base_uri": "https://localhost:8080/"
        },
        "outputId": "e3667478-9baf-48d0-99fe-b15c5b4f364e"
      },
      "source": [
        "# A expressão regular \\w*m\\w+ corresponda a strings que contenham a letra 'm' minúscula,\n",
        "# precedida por uma sequência de caracteres alfanuméricos de qualquer comprimento\n",
        "# (incluindo nenhum) e seguida por pelo menos um caractere alfanumérico.\n",
        "padrao = r\"\\w+m\\w+\"\n",
        "resultado = re.finditer(padrao, texto)\n",
        "if resultado:\n",
        "    print(formata_msg(\"INFO\", f\"Padrão '{padrao}', encontrado:\\n\"))\n",
        "    for token in resultado:\n",
        "      print(f\"{token.group()}\")\n",
        "else:\n",
        "    print(formata_msg(\"ERRO\", f\"Padrão '{padrao}', não encontrado.\"))"
      ],
      "execution_count": 15,
      "outputs": [
        {
          "output_type": "stream",
          "name": "stdout",
          "text": [
            "[INFO] 2024-06-19 09:25:57 - Padrão '\\w+m\\w+', encontrado:\n",
            "\n",
            "Pagamento\n",
            "confirmado\n"
          ]
        }
      ]
    },
    {
      "cell_type": "markdown",
      "metadata": {
        "id": "B9rzAL9gU2b0"
      },
      "source": [
        "## Método **split()**\n",
        "O método **split()** segmenta a string em várias partes, utilizando os pontos de correspondência com a expressão regular como divisores. O resultado é uma lista contendo as substrings resultantes dessa divisão, proporcionando uma maneira eficiente de desmembrar e analisar o texto com base em padrões específicos."
      ]
    },
    {
      "cell_type": "code",
      "metadata": {
        "id": "GKgoQoFoU2b1",
        "colab": {
          "base_uri": "https://localhost:8080/"
        },
        "outputId": "7867a511-9179-4618-c35b-ba264f9bbdc9"
      },
      "source": [
        "separador = r\"\\n\"\n",
        "resultado = re.split(separador,texto)\n",
        "print(formata_msg(\"INFO\", f\"Resultado:\"))\n",
        "for ii, token in enumerate(resultado):\n",
        "      print(f\"{ii+1} - {token}\")"
      ],
      "execution_count": 16,
      "outputs": [
        {
          "output_type": "stream",
          "name": "stdout",
          "text": [
            "[INFO] 2024-06-19 09:26:00 - Resultado:\n",
            "1 - Transferência recebida de JOAO SILVA, conta 1234-5. Valor: R$1.500,00 em 2024-02-15.\n",
            "2 - Pagamento confirmado para ALUGUEL, Conta 6789-0. Valor: R$800,00 em 2024-02-16.\n",
            "3 - Depósito recebido, conta 5432-1. Valor: R$3.200,00 em 2024-02-17.\n"
          ]
        }
      ]
    },
    {
      "cell_type": "code",
      "metadata": {
        "id": "_1gB1K_8U2b6",
        "colab": {
          "base_uri": "https://localhost:8080/"
        },
        "outputId": "ba954c62-69b9-46f6-d38f-8e8465e3130d"
      },
      "source": [
        "separador = r\"\\s+\"\n",
        "\n",
        "# split() da biblioteca padrão do Python.\n",
        "resultado = texto.split(separador)\n",
        "print(formata_msg(\"INFO\", f\"Resultado:\"))\n",
        "for ii, token in enumerate(resultado):\n",
        "      print(f\"{ii+1} - {token}\")"
      ],
      "execution_count": 17,
      "outputs": [
        {
          "output_type": "stream",
          "name": "stdout",
          "text": [
            "[INFO] 2024-06-19 09:26:03 - Resultado:\n",
            "1 - Transferência recebida de JOAO SILVA, conta 1234-5. Valor: R$1.500,00 em 2024-02-15.\n",
            "Pagamento confirmado para ALUGUEL, Conta 6789-0. Valor: R$800,00 em 2024-02-16.\n",
            "Depósito recebido, conta 5432-1. Valor: R$3.200,00 em 2024-02-17.\n"
          ]
        }
      ]
    },
    {
      "cell_type": "code",
      "metadata": {
        "id": "9J_2KEVLU2cA",
        "colab": {
          "base_uri": "https://localhost:8080/"
        },
        "outputId": "bcc331b2-bbf3-4f80-b6a9-4cbc3153ecae"
      },
      "source": [
        "# Define a expressão regular para um ou mais espaços em branco.\n",
        "separador = \"\\s+\"\n",
        "resultado = re.split(separador, texto)\n",
        "print(formata_msg(\"INFO\", f\"Resultado:\"))\n",
        "for ii, token in enumerate(resultado):\n",
        "      print(f\"{ii+1} - {token}\")"
      ],
      "execution_count": 18,
      "outputs": [
        {
          "output_type": "stream",
          "name": "stdout",
          "text": [
            "[INFO] 2024-06-19 09:26:06 - Resultado:\n",
            "1 - Transferência\n",
            "2 - recebida\n",
            "3 - de\n",
            "4 - JOAO\n",
            "5 - SILVA,\n",
            "6 - conta\n",
            "7 - 1234-5.\n",
            "8 - Valor:\n",
            "9 - R$1.500,00\n",
            "10 - em\n",
            "11 - 2024-02-15.\n",
            "12 - Pagamento\n",
            "13 - confirmado\n",
            "14 - para\n",
            "15 - ALUGUEL,\n",
            "16 - Conta\n",
            "17 - 6789-0.\n",
            "18 - Valor:\n",
            "19 - R$800,00\n",
            "20 - em\n",
            "21 - 2024-02-16.\n",
            "22 - Depósito\n",
            "23 - recebido,\n",
            "24 - conta\n",
            "25 - 5432-1.\n",
            "26 - Valor:\n",
            "27 - R$3.200,00\n",
            "28 - em\n",
            "29 - 2024-02-17.\n"
          ]
        }
      ]
    },
    {
      "cell_type": "markdown",
      "metadata": {
        "id": "c5alQqxuU2cD"
      },
      "source": [
        "## Método **sub()**\n",
        "O método **sub()** busca por todas as instâncias dentro de uma string que se alinham com uma expressão regular e realiza a substituição dessas por uma nova string definida pelo usuário. Esse processo permite a alteração dinâmica de partes específicas do texto, facilitando correções, formatações ou adaptações de conteúdo de forma ágil e precisa."
      ]
    },
    {
      "cell_type": "code",
      "metadata": {
        "id": "BpXFAGB5U2cE",
        "colab": {
          "base_uri": "https://localhost:8080/",
          "height": 35
        },
        "outputId": "4d71789f-5bf9-425c-bbc0-58134cfccda3"
      },
      "source": [
        "re.sub(r\"R\\$\", \"(BRL)\", texto)"
      ],
      "execution_count": 19,
      "outputs": [
        {
          "output_type": "execute_result",
          "data": {
            "text/plain": [
              "'Transferência recebida de JOAO SILVA, conta 1234-5. Valor: (BRL)1.500,00 em 2024-02-15.\\nPagamento confirmado para ALUGUEL, Conta 6789-0. Valor: (BRL)800,00 em 2024-02-16.\\nDepósito recebido, conta 5432-1. Valor: (BRL)3.200,00 em 2024-02-17.'"
            ],
            "application/vnd.google.colaboratory.intrinsic+json": {
              "type": "string"
            }
          },
          "metadata": {},
          "execution_count": 19
        }
      ]
    },
    {
      "cell_type": "markdown",
      "metadata": {
        "id": "AklOXTO-U2cH"
      },
      "source": [
        "## Método **subn()**\n",
        "O método **subn()** oferece a mesma funcionalidade de substituição de substrings que correspondem a uma expressão regular, assim como sub(). A diferença reside no seu retorno, que inclui tanto a string resultante quanto a contagem exata das substituições efetuadas. Essa característica adicional proporciona uma visão quantitativa do impacto das alterações, permitindo um controle mais preciso sobre o processo de manipulação de texto."
      ]
    },
    {
      "cell_type": "code",
      "metadata": {
        "id": "FKmANFR4U2cI",
        "colab": {
          "base_uri": "https://localhost:8080/"
        },
        "outputId": "8002753b-826c-4918-84aa-a63e4cd3a82f"
      },
      "source": [
        "resultado, num_substituicoes = re.subn('R\\$', '(BRL)', texto)\n",
        "print(formata_msg(\"INFO\", f\"Texto modificado:\\n{resultado} \\n\\nNúmero de substituições: {num_substituicoes}\"))"
      ],
      "execution_count": 20,
      "outputs": [
        {
          "output_type": "stream",
          "name": "stdout",
          "text": [
            "[INFO] 2024-06-19 09:26:15 - Texto modificado:\n",
            "Transferência recebida de JOAO SILVA, conta 1234-5. Valor: (BRL)1.500,00 em 2024-02-15.\n",
            "Pagamento confirmado para ALUGUEL, Conta 6789-0. Valor: (BRL)800,00 em 2024-02-16.\n",
            "Depósito recebido, conta 5432-1. Valor: (BRL)3.200,00 em 2024-02-17. \n",
            "\n",
            "Número de substituições: 3\n"
          ]
        }
      ]
    },
    {
      "cell_type": "markdown",
      "metadata": {
        "id": "RxY0r2eoU2cL"
      },
      "source": [
        "# Aplicações de funções expressões regulares"
      ]
    },
    {
      "cell_type": "markdown",
      "metadata": {
        "id": "6m1l9DicU2cM"
      },
      "source": [
        "####1. Escreva uma expressão regular para verificar se uma string contém apenas caracteres específicos (neste caso, a-z, A-Z e 0-9)."
      ]
    },
    {
      "cell_type": "code",
      "metadata": {
        "id": "5PhrR9-mU2cM",
        "colab": {
          "base_uri": "https://localhost:8080/"
        },
        "outputId": "a7df2b11-d179-4bd5-ed61-67e9baa60298"
      },
      "source": [
        "# Explicação da expressão regular r\"^[a-zA-Z0-9]+$\":\n",
        "#\n",
        "# ^        - Indica o início da string. Garante que a correspondência comece\n",
        "#            a partir do primeiro caractere da string.\n",
        "# [a-zA-Z0-9] - Define uma classe de caracteres que inclui letras minúsculas (a-z),\n",
        "#            letras maiúsculas (A-Z) e números (0-9).\n",
        "# +        - Indica uma ou mais ocorrências do conjunto de caracteres definido.\n",
        "#            Ou seja, a string deve ter pelo menos um caractere da classe\n",
        "#            [a-zA-Z0-9].\n",
        "# $        - Indica o final da string. Garante que a correspondência vá até\n",
        "#            o último caractere da string.\n",
        "#\n",
        "# Essa expressão é usada para validar se uma string contém apenas letras\n",
        "# (maiúsculas ou minúsculas) e números, sem espaços, símbolos ou caracteres\n",
        "# especiais. É comum em cenários onde se exigem identificadores, nomes de\n",
        "# usuário ou senhas simples.\n",
        "padrao = r\"^[a-zA-Z0-9]+$\"\n",
        "\n",
        "# Duas strings de teste\n",
        "string1 = \"ABCDEFabcdef123450\"\n",
        "string2 = \"*&%@#!}{\"\n",
        "\n",
        "# Testando a primeira string\n",
        "if re.match(padrao, string1):\n",
        "    print(f\"'{string1}' contém apenas caracteres permitidos.\")\n",
        "else:\n",
        "    print(f\"'{string1}' contém caracteres não permitidos.\")\n",
        "\n",
        "# Testando a segunda string\n",
        "if re.match(padrao, string2):\n",
        "    print(f\"'{string2}' contém apenas caracteres permitidos.\")\n",
        "else:\n",
        "    print(f\"'{string2}' contém caracteres não permitidos.\")"
      ],
      "execution_count": 23,
      "outputs": [
        {
          "output_type": "stream",
          "name": "stdout",
          "text": [
            "'ABCDEFabcdef123450' contém apenas caracteres permitidos.\n",
            "'*&%@#!}{' contém caracteres não permitidos.\n"
          ]
        }
      ]
    },
    {
      "cell_type": "markdown",
      "metadata": {
        "id": "zuzgAySVU2cz"
      },
      "source": [
        "####2. Escreva uma expressão regular para converter datas do formato aaaa-mm-dd para dd-mm-aaaa."
      ]
    },
    {
      "cell_type": "code",
      "metadata": {
        "id": "cJI2Be8GU2cz",
        "colab": {
          "base_uri": "https://localhost:8080/"
        },
        "outputId": "f7744aaf-5f34-4201-ebe7-c5a8378b0b46"
      },
      "source": [
        "# Explicação da expressão regular r'(\\d{4})-(\\d{2})-(\\d{2})':\n",
        "#\n",
        "# (\\d{4}) - Corresponde a uma sequência de exatamente 4 dígitos. Utilizado\n",
        "#           para capturar o ano em uma data.\n",
        "# -       - Corresponde ao caractere literal '-', usado como separador.\n",
        "# (\\d{2}) - Corresponde a uma sequência de exatamente 2 dígitos. O primeiro\n",
        "#           grupo captura o mês e o segundo grupo o dia em uma data.\n",
        "#\n",
        "# Essa expressão é comumente usada para identificar e extrair datas no formato\n",
        "# 'AAAA-MM-DD', onde 'AAAA' é o ano, 'MM' é o mês e 'DD' é o dia.\n",
        "padrao = r'(\\d{4})-(\\d{2})-(\\d{2})'\n",
        "\n",
        "# Função para converter o formato da data\n",
        "def converter_formato_data(data):\n",
        "    # Substituindo e reorganizando os grupos capturados\n",
        "    return re.sub(padrao, r'\\3-\\2-\\1', data)\n",
        "\n",
        "# Datas de teste\n",
        "data1 = \"2026-01-02\"\n",
        "data2 = \"26-01-02\"  # Esta data não está no formato aaaa-mm-dd, então o padrão não se aplica\n",
        "\n",
        "# Convertendo as datas\n",
        "data1_convertida = converter_formato_data(data1)\n",
        "data2_convertida = converter_formato_data(data2)\n",
        "\n",
        "# Imprimindo os resultados\n",
        "print(formata_msg(\"INFO\", f\"\\nData original: {data1}, Data convertida: {data1_convertida}\\n\"))\n",
        "print(formata_msg(\"INFO\", f\"\\nData original: {data2}, Data convertida: {data2_convertida}\"))"
      ],
      "execution_count": 24,
      "outputs": [
        {
          "output_type": "stream",
          "name": "stdout",
          "text": [
            "[INFO] 2024-06-19 09:34:13 - \n",
            "Data original: 2026-01-02, Data convertida: 02-01-2026\n",
            "\n",
            "[INFO] 2024-06-19 09:34:13 - \n",
            "Data original: 26-01-02, Data convertida: 26-01-02\n"
          ]
        }
      ]
    },
    {
      "cell_type": "markdown",
      "metadata": {
        "id": "XenuPdJFU2dS"
      },
      "source": [
        "####3. Escreva uma expressão regular para remover o conteúdo entre parênteses em uma string\n",
        "\n",
        "\n",
        "- Amostra de Entrada:\n",
        "> * [\"example (.br)\", \"w3resource\", \"github (.com)\", \"stackoverflow (.com)\"] </br>\n",
        "* Saída Esperada:\n",
        "> * example\n",
        "> * w3resource\n",
        "> * github\n",
        "> * stackoverflow"
      ]
    },
    {
      "cell_type": "code",
      "metadata": {
        "id": "xLN0qjIqU2dT",
        "colab": {
          "base_uri": "https://localhost:8080/"
        },
        "outputId": "a8f64254-5325-4bcc-bdfc-86757aedf581"
      },
      "source": [
        "# Lista de strings de entrada\n",
        "entradas = [\"example (.br)\", \"w3resource\", \"github (.com)\", \"stackoverflow (.com)\"]\n",
        "\n",
        "# Explicação da expressão regular r'\\s*\\([^)]*\\)':\n",
        "#\n",
        "# \\s*    - Zero ou mais espaços em branco.\n",
        "# \\(     - Parêntese de abertura literal.\n",
        "# [^)]*  - Qualquer caractere exceto parêntese de fechamento, repetido zero ou\n",
        "#          mais vezes.\n",
        "# \\)     - Parêntese de fechamento literal.\n",
        "#\n",
        "# Identifica sequências que iniciam com espaços opcionais seguidos por texto\n",
        "# entre parênteses, excluindo os parênteses de fechamento internos.\n",
        "padrao = r'\\s*\\([^)]*\\)'\n",
        "\n",
        "# Removendo as áreas de parênteses e imprimindo a saída\n",
        "#list comprehension python\n",
        "saidas = [re.sub(padrao, '', entrada) for entrada in entradas]\n",
        "print(formata_msg(\"INFO\", f\"Resultado: \\n{saidas}\"))\n"
      ],
      "execution_count": 25,
      "outputs": [
        {
          "output_type": "stream",
          "name": "stdout",
          "text": [
            "[INFO] 2024-06-19 09:35:49 - Resultado: \n",
            "['example', 'w3resource', 'github', 'stackoverflow']\n"
          ]
        }
      ]
    },
    {
      "cell_type": "markdown",
      "metadata": {
        "id": "YXbqmKEzU2da"
      },
      "source": [
        "####4. Escreva um programa para quebrar um texto em sentenças"
      ]
    },
    {
      "cell_type": "code",
      "metadata": {
        "id": "qhqTyY5zQDxQ",
        "colab": {
          "base_uri": "https://localhost:8080/"
        },
        "outputId": "7f445a66-6637-4ba6-8b33-32e415b992ac"
      },
      "source": [
        "# A string de entrada\n",
        "texto = \"Vamos encontrar Padrões nesta string!! Agora é a nossa primeira prática de NLP!! Vamos aprender a procurar padrões!! Belo Horizonte 2020.\"\n",
        "\n",
        "# Explicação da expressão regular r'[.!?]\\s+':\n",
        "#\n",
        "# [.!?]   - Define uma classe de caracteres que inclui um ponto final (.),\n",
        "#           um ponto de exclamação (!), ou um ponto de interrogação (?).\n",
        "#           Essa parte da expressão regular corresponde a qualquer um desses\n",
        "#           caracteres de pontuação.\n",
        "#\n",
        "# \\s+     - Corresponde a um ou mais espaços em branco. O símbolo de adição (+)\n",
        "#           indica \"uma ou mais ocorrências\" do caractere de espaço em branco\n",
        "#           precedente. Espaços em branco incluem espaços, tabulações, quebras\n",
        "#           de linha, etc.\n",
        "#\n",
        "# Esta expressão regular é útil para identificar ocorrências de caracteres de\n",
        "# pontuação que indicam o fim de uma sentença (ponto, exclamação, interrogação)\n",
        "# seguidos por um ou mais espaços em branco. Pode ser usada para tarefas como\n",
        "# segmentar texto em sentenças ou formatar texto.\n",
        "padrao = r'[.!?]\\s+'\n",
        "\n",
        "# Dividindo o texto em sentenças\n",
        "sentencas = re.split(padrao, texto)\n",
        "\n",
        "# Imprimindo as sentenças\n",
        "print(formata_msg(\"INFO\", f\"Resultado:\\n\"))\n",
        "for sentenca in sentencas:\n",
        "    print(sentenca)"
      ],
      "execution_count": 26,
      "outputs": [
        {
          "output_type": "stream",
          "name": "stdout",
          "text": [
            "[INFO] 2024-06-19 09:36:20 - Resultado:\n",
            "\n",
            "Vamos encontrar Padrões nesta string!\n",
            "Agora é a nossa primeira prática de NLP!\n",
            "Vamos aprender a procurar padrões!\n",
            "Belo Horizonte 2020.\n"
          ]
        }
      ]
    },
    {
      "cell_type": "markdown",
      "metadata": {
        "id": "BDGD0bR0U2dg"
      },
      "source": [
        "####5. Escreva um código para remover os zeros iniciais do IP 216.08.094.196"
      ]
    },
    {
      "cell_type": "code",
      "metadata": {
        "id": "YZ7fKuxfQEw2",
        "colab": {
          "base_uri": "https://localhost:8080/"
        },
        "outputId": "b944f66e-1048-4665-93b6-a1180bcccf8c"
      },
      "source": [
        "ip = \"216.08.094.196\"\n",
        "\n",
        "# Dividindo o IP em seus componentes\n",
        "partes = ip.split('.')\n",
        "\n",
        "#list comprehension python\n",
        "# Removendo os zeros iniciais de cada parte e garantindo que partes vazias sejam '0'\n",
        "partes_sem_zeros = [parte.lstrip('0') or '0' for parte in partes]\n",
        "\n",
        "# Juntando as partes de volta em um IP\n",
        "ip_sem_zeros = '.'.join(partes_sem_zeros)\n",
        "\n",
        "print(formata_msg(\"INFO\", f\"\\n{ip_sem_zeros}\\n\"))"
      ],
      "execution_count": 28,
      "outputs": [
        {
          "output_type": "stream",
          "name": "stdout",
          "text": [
            "[INFO] 2024-06-19 09:37:23 - \n",
            "216.8.94.196\n",
            "\n"
          ]
        }
      ]
    },
    {
      "cell_type": "markdown",
      "metadata": {
        "id": "g6ZOC3hmHNm-"
      },
      "source": [
        "####6. Recupere todas as menções de \"Twitter\" da string abaixo"
      ]
    },
    {
      "cell_type": "code",
      "metadata": {
        "id": "zq2VN2g-HPec",
        "colab": {
          "base_uri": "https://localhost:8080/"
        },
        "outputId": "dab7d40e-81b8-4f5e-c0e9-b8e7c40071bb"
      },
      "source": [
        "# O texto de exemplo\n",
        "texto_exemplo_twitter = \"\"\"\n",
        "This is a @test of some cool features that @mi_asd be @use-ful but @don't. look at this email@address.com.\n",
        "@bla! I like #nylas but I don't like to go to this apple.com?a#url. I also don't like the ### comment blocks.\n",
        " But #msft is cool.\"\"\"\n",
        "\n",
        "# Explicação da expressão regular r'\\B@\\w+':\n",
        "#\n",
        "# \\B      - Corresponde a uma posição que não é o limite de uma palavra. Isso\n",
        "#           garante que o símbolo @ não seja precedido por um caractere de\n",
        "#           palavra, como letras, dígitos ou sublinhados, permitindo que a\n",
        "#           menção apareça no meio do texto sem ser parte de uma palavra maior.\n",
        "#\n",
        "# @       - Corresponde ao símbolo literal '@', que é usado para indicar menções\n",
        "#           ou referências a usuários nas redes sociais.\n",
        "#\n",
        "# \\w+     - Corresponde a uma ou mais ocorrências de qualquer caractere de\n",
        "#           palavra, incluindo letras (maiúsculas e minúsculas), dígitos e\n",
        "#           sublinhados. O símbolo de adição (+) indica \"uma ou mais\n",
        "#           ocorrências\" do caractere de palavra precedente.\n",
        "#\n",
        "# Essa expressão regular é útil para identificar menções de usuários em textos\n",
        "# de redes sociais, como no Twitter, onde os nomes de usuário são precedidos\n",
        "# pelo símbolo '@'.\n",
        "padrao_twitter = r'\\B@\\w+'\n",
        "\n",
        "# Encontrando todas as menções do Twitter no texto\n",
        "mensoes_twitter = re.findall(padrao_twitter, texto_exemplo_twitter)\n",
        "\n",
        "print(formata_msg(\"INFO\", f\"\\n\\n{mensoes_twitter}\"))\n"
      ],
      "execution_count": 29,
      "outputs": [
        {
          "output_type": "stream",
          "name": "stdout",
          "text": [
            "[INFO] 2024-06-19 09:37:56 - \n",
            "\n",
            "['@test', '@mi_asd', '@use', '@don', '@bla']\n"
          ]
        }
      ]
    },
    {
      "cell_type": "markdown",
      "metadata": {
        "id": "EuRUVjfSQfVb"
      },
      "source": [
        "####7. Escreva uma expressão regular para remover as urls do texto:\n",
        "\n",
        "- Para realizar pesquisas de artigos acadêmicos use o Google Scholar: https://scholar.google.com.br/\n",
        "- Sempre mantenha seu linkedin atualizado: https://www.linkedin.com/"
      ]
    },
    {
      "cell_type": "code",
      "metadata": {
        "id": "rJxuUl9WQZ0-",
        "colab": {
          "base_uri": "https://localhost:8080/"
        },
        "outputId": "9b6ad224-5126-4669-8f57-e091883c8cf0"
      },
      "source": [
        "import re\n",
        "\n",
        "# O texto fornecido\n",
        "texto = \"\"\"\n",
        "Para realizar pesquisas de artigos acadêmicos use o Google Scholar: https://scholar.google.com.br/\n",
        "Sempre mantenha seu linkedin atualizado: https://www.linkedin.com/\"\"\"\n",
        "\n",
        "# Explicação da expressão regular r'https?://\\S+':\n",
        "#\n",
        "# https?  - Corresponde à string \"http\" seguida por um \"s\" opcional. O \"?\" após\n",
        "#           o \"s\" indica que o \"s\" é opcional, permitindo que a expressão\n",
        "#           corresponda tanto a \"http\" quanto a \"https\".\n",
        "#\n",
        "# ://     - Corresponde aos caracteres literais \"://\", que são parte típica da\n",
        "#           sintaxe de uma URL logo após o protocolo (http ou https).\n",
        "#\n",
        "# \\S+     - Corresponde a uma ou mais ocorrências de qualquer caractere que não\n",
        "#           seja um espaço em branco. O \"\\S\" corresponde a qualquer caractere\n",
        "#           que não seja espaço, tabulação, etc., e o \"+\" indica \"uma ou mais\n",
        "#           ocorrências\" desse tipo de caractere.\n",
        "#\n",
        "# Esta expressão regular é usada para identificar URLs em textos. Ela capta\n",
        "# URLs iniciadas por \"http\" ou \"https\", seguidas por qualquer sequência de\n",
        "# caracteres que não inclua espaços em branco, até o próximo espaço ou o fim\n",
        "# da string.\n",
        "padrao_url = r'https?://\\S+'\n",
        "\n",
        "# Encontrando todas as URLs no texto\n",
        "urls = re.findall(padrao_url, texto)\n",
        "\n",
        "# Imprimindo as URLs encontradas\n",
        "print(formata_msg(\"INFO\", f\"Resultado:\\n\"))\n",
        "for url in urls:\n",
        "    print(url)\n"
      ],
      "execution_count": 30,
      "outputs": [
        {
          "output_type": "stream",
          "name": "stdout",
          "text": [
            "[INFO] 2024-06-19 09:38:39 - Resultado:\n",
            "\n",
            "https://scholar.google.com.br/\n",
            "https://www.linkedin.com/\n"
          ]
        }
      ]
    }
  ]
}