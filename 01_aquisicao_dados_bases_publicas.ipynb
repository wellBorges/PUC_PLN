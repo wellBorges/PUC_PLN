{
  "nbformat": 4,
  "nbformat_minor": 0,
  "metadata": {
    "colab": {
      "provenance": [],
      "gpuType": "T4",
      "include_colab_link": true
    },
    "kernelspec": {
      "name": "python3",
      "display_name": "Python 3"
    },
    "language_info": {
      "name": "python"
    },
    "accelerator": "GPU"
  },
  "cells": [
    {
      "cell_type": "markdown",
      "metadata": {
        "id": "view-in-github",
        "colab_type": "text"
      },
      "source": [
        "<a href=\"https://colab.research.google.com/github/wellBorges/PUC_PLN/blob/main/01_aquisicao_dados_bases_publicas.ipynb\" target=\"_parent\"><img src=\"https://colab.research.google.com/assets/colab-badge.svg\" alt=\"Open In Colab\"/></a>"
      ]
    },
    {
      "cell_type": "markdown",
      "source": [
        "# **Aquisição de dados de bases públicas**"
      ],
      "metadata": {
        "id": "R3tUTgb_kpwv"
      }
    },
    {
      "cell_type": "code",
      "source": [
        "# Instalação dos pacotes necessários.\n",
        "!pip install requests kaggle"
      ],
      "metadata": {
        "id": "NB3Mmh26EKbn",
        "colab": {
          "base_uri": "https://localhost:8080/"
        },
        "outputId": "162083a1-2acb-48db-b131-7f216dd5ec94"
      },
      "execution_count": 1,
      "outputs": [
        {
          "output_type": "stream",
          "name": "stdout",
          "text": [
            "Requirement already satisfied: requests in /usr/local/lib/python3.10/dist-packages (2.31.0)\n",
            "Requirement already satisfied: kaggle in /usr/local/lib/python3.10/dist-packages (1.6.14)\n",
            "Requirement already satisfied: charset-normalizer<4,>=2 in /usr/local/lib/python3.10/dist-packages (from requests) (3.3.2)\n",
            "Requirement already satisfied: idna<4,>=2.5 in /usr/local/lib/python3.10/dist-packages (from requests) (3.7)\n",
            "Requirement already satisfied: urllib3<3,>=1.21.1 in /usr/local/lib/python3.10/dist-packages (from requests) (2.0.7)\n",
            "Requirement already satisfied: certifi>=2017.4.17 in /usr/local/lib/python3.10/dist-packages (from requests) (2024.6.2)\n",
            "Requirement already satisfied: six>=1.10 in /usr/local/lib/python3.10/dist-packages (from kaggle) (1.16.0)\n",
            "Requirement already satisfied: python-dateutil in /usr/local/lib/python3.10/dist-packages (from kaggle) (2.8.2)\n",
            "Requirement already satisfied: tqdm in /usr/local/lib/python3.10/dist-packages (from kaggle) (4.66.4)\n",
            "Requirement already satisfied: python-slugify in /usr/local/lib/python3.10/dist-packages (from kaggle) (8.0.4)\n",
            "Requirement already satisfied: bleach in /usr/local/lib/python3.10/dist-packages (from kaggle) (6.1.0)\n",
            "Requirement already satisfied: webencodings in /usr/local/lib/python3.10/dist-packages (from bleach->kaggle) (0.5.1)\n",
            "Requirement already satisfied: text-unidecode>=1.3 in /usr/local/lib/python3.10/dist-packages (from python-slugify->kaggle) (1.3)\n"
          ]
        }
      ]
    },
    {
      "cell_type": "code",
      "source": [
        "# Importação de pacotes básicos para a execução deste notebook.\n",
        "import os\n",
        "import tarfile\n",
        "\n",
        "import requests\n",
        "print(\"Pacotes importados com sucesso.\")"
      ],
      "metadata": {
        "id": "8ueIJQz8n-h6",
        "colab": {
          "base_uri": "https://localhost:8080/"
        },
        "outputId": "f63c0848-a8c8-4e70-fc31-9b0d7d9f98d1"
      },
      "execution_count": 2,
      "outputs": [
        {
          "output_type": "stream",
          "name": "stdout",
          "text": [
            "Pacotes importados com sucesso.\n"
          ]
        }
      ]
    },
    {
      "cell_type": "code",
      "source": [
        "# Define o diretório local para armazenar as bases de dados públicas coletadas.\n",
        "corpora_caminho = \"corpora\"\n",
        "\n",
        "# Verifica se o diretório especificado já existe no ambiente do Colab.\n",
        "if not os.path.exists(corpora_caminho):\n",
        "  # Caso o diretório não exista, cria um novo diretório com o nome 'corpora'.\n",
        "  # Isso é útil para organizar os arquivos de dados baixados ou gerados.\n",
        "  os.mkdir(corpora_caminho)\n",
        "\n",
        "print(f\"Diretório {corpora_caminho} criado com sucesso.\")"
      ],
      "metadata": {
        "id": "Ld0Thaj9nqzn",
        "colab": {
          "base_uri": "https://localhost:8080/"
        },
        "outputId": "8679773b-d8bf-4c8d-f2f9-266cf339d9fd"
      },
      "execution_count": 3,
      "outputs": [
        {
          "output_type": "stream",
          "name": "stdout",
          "text": [
            "Diretório corpora criado com sucesso.\n"
          ]
        }
      ]
    },
    {
      "cell_type": "markdown",
      "source": [
        "## 1. Bases de dados públicas"
      ],
      "metadata": {
        "id": "pzFkGfrRd65P"
      }
    },
    {
      "cell_type": "markdown",
      "source": [
        "## Avaliação de produtos das americanas.com"
      ],
      "metadata": {
        "id": "q6aSu0KT4paP"
      }
    },
    {
      "cell_type": "markdown",
      "source": [
        "O B2W-Reviews01 representa uma rica coleção de avaliações de produtos disponibilizadas pela Americanas.com. Este conjunto aberto abrange mais de 130 mil opiniões de usuários do e-commerce, registradas de janeiro a maio de 2018. Além das valiosas percepções sobre os produtos, o B2W-Reviews01 destaca-se por oferecer detalhes sobre os consumidores que as escreveram, englobando informações como gênero, faixa etária e localização, tornando-o um recurso inestimável para análises de comportamento de compra e tendências de mercado."
      ],
      "metadata": {
        "id": "c0tgNZXdnG07"
      }
    },
    {
      "cell_type": "code",
      "execution_count": 4,
      "metadata": {
        "id": "mVXqB01uDacX"
      },
      "outputs": [],
      "source": [
        "# Define a URL da base pública armazenada no Github.\n",
        "url = \"https://raw.githubusercontent.com/americanas-tech/b2w-reviews01/main/B2W-Reviews01.csv\""
      ]
    },
    {
      "cell_type": "code",
      "source": [
        "# Configuração do arquivo para armazenamento da base de dados.\n",
        "americanas_arquivo = \"americanas-comentarios.csv\"\n",
        "\n",
        "# O método os.path.join cria o caminho completo para o arquivo, combinando\n",
        "# 'corpora_caminho' com o nome do arquivo 'b2w_arquivo'.\n",
        "americanas_caminho = os.path.join(corpora_caminho, americanas_arquivo)\n",
        "\n",
        "# Define o formato do arquivo. Necessário para arquivos textos\n",
        "# armazenados no raw.githubusercontent.com.\n",
        "parametros = {\"downloadformat\": \"csv\"}\n",
        "\n",
        "# Executa o download do arquivo especificado na URL com os parâmetros\n",
        "# especificados\n",
        "resposta = requests.get(url, params=parametros)\n",
        "if resposta.status_code == 200:\n",
        "  # Se o status for igual a 200 (sucesso), grava o arquivo no caminho\n",
        "  # especificado\n",
        "  with open(americanas_caminho, \"wb\") as f:\n",
        "    f.write(resposta.content)\n",
        "  print(f\"Download do {americanas_arquivo} foi concluído com sucesso!\")\n",
        "else:\n",
        "   print(f\"Falha no download do arquivo {americanas_arquivo}:\", resposta.status_code)"
      ],
      "metadata": {
        "id": "woasdVNlm_gU",
        "colab": {
          "base_uri": "https://localhost:8080/"
        },
        "outputId": "4550b88b-ba58-4794-c4f3-0b479dcdcd87"
      },
      "execution_count": 5,
      "outputs": [
        {
          "output_type": "stream",
          "name": "stdout",
          "text": [
            "Download do americanas-comentarios.csv foi concluído com sucesso!\n"
          ]
        }
      ]
    },
    {
      "cell_type": "code",
      "source": [
        "# O comando head do linux mostra as cinco primeiras linhas do arquivo gravado.\n",
        "!head -n 5 {americanas_caminho}"
      ],
      "metadata": {
        "id": "57kIS4iOsTM1",
        "colab": {
          "base_uri": "https://localhost:8080/"
        },
        "outputId": "d99657ce-997b-49b3-abcd-7eed2c364575"
      },
      "execution_count": 6,
      "outputs": [
        {
          "output_type": "stream",
          "name": "stdout",
          "text": [
            "submission_date,reviewer_id,product_id,product_name,product_brand,site_category_lv1,site_category_lv2,review_title,overall_rating,recommend_to_a_friend,review_text,reviewer_birth_year,reviewer_gender,reviewer_state\n",
            "2018-01-01 00:11:28,d0fb1ca69422530334178f5c8624aa7a99da47907c44de0243719b15d50623ce,132532965,\"Notebook Asus Vivobook Max X541NA-GO472T Intel Celeron Quad Core 4GB 500GB Tela LED 15,6\"\" Windows - 10 Branco\",,Informática,Notebook,Bom,4,Yes,Estou contente com a compra entrega rápida o único problema com as Americanas é se houver troca ou devolução do produto o consumidor tem problemas com espera.,1958.0,F,RJ\n",
            "2018-01-01 00:13:48,014d6dc5a10aed1ff1e6f349fb2b059a2d3de511c7538a9008da562ead5f5ecd,22562178,Copo Acrílico Com Canudo 500ml Rocie,,Utilidades Domésticas,\"Copos, Taças e Canecas\",\"Preço imbatível, ótima qualidade\",4,Yes,\"Por apenas R$1994.20,eu consegui comprar esse lindo copo de acrílico.\",1996.0,M,SC\n",
            "2018-01-01 00:26:02,44f2c8edd93471926fff601274b8b2b5c4824e386ae4f210329b9b71890277fd,113022329,Panela de Pressão Elétrica Philips Walita Daily 5L com Timer,philips walita,Eletroportáteis,Panela Elétrica,ATENDE TODAS AS EXPECTATIVA.,4,Yes,\"SUPERA EM AGILIDADE E PRATICIDADE OUTRAS PANELAS ELÉTRICAS.  COSTUMO USAR OUTRA PANELA PARA COZIMENTO DE ARROZ (JAPONESA), MAS LEVA MUITO TEMPO,  +/- 50 MINUTOS.  NESSA PANELA  É MUITO MAIS RÁPIDO, EXATAMENTE 6 MINUTOS.    EU RECOMENDO.\",1984.0,M,SP\n",
            "2018-01-01 00:35:54,ce741665c1764ab2d77539e18d0e4f66dde6213c9f0863f165ffedb1e8147984,113851581,Betoneira Columbus - Roma Brinquedos,roma jensen,Brinquedos,Veículos de Brinquedo,presente mais que desejado,4,Yes,MEU FILHO AMOU! PARECE DE VERDADE COM TANTOS DETALHES QUE TÊM!,1985.0,F,SP\n"
          ]
        }
      ]
    },
    {
      "cell_type": "markdown",
      "source": [],
      "metadata": {
        "id": "sC7F4AFmJqXl"
      }
    },
    {
      "cell_type": "markdown",
      "source": [
        "## Revista Fapesp\n",
        "\n",
        "Este conjunto de dados inclui coleções em duas línguas: português para inglês e português para espanhol, provenientes das edições digitais da renomada revista científica brasileira REVISTA PESQUISA FAPESP. O que chama atenção é a forma de armazenamento dessas informações: um arquivo .tar.gz. Esse método de compactação é bastante popular em sistemas operacionais Linux, conhecido por sua eficiência na redução de tamanho de arquivos, mantendo a integridade dos dados.\n"
      ],
      "metadata": {
        "id": "GESEMBtz2LOD"
      }
    },
    {
      "cell_type": "markdown",
      "source": [],
      "metadata": {
        "id": "doC1hEFsUrgs"
      }
    },
    {
      "cell_type": "code",
      "source": [
        "# Define a URL da base de dados pública hospedada no GitHub, apontando para o\n",
        "# arquivo 'fapesp-corpora.tar.gz' disponível no repositório do NILC.\n",
        "url = \"http://www.nilc.icmc.usp.br/nilc/tools/fapesp-corpora.tar.gz\""
      ],
      "metadata": {
        "id": "53XQJi7SJtp2"
      },
      "execution_count": 7,
      "outputs": []
    },
    {
      "cell_type": "code",
      "source": [
        "# Define o nome do arquivo para a base de dados da FAPESP e o caminho completo\n",
        "# onde o arquivo será salvo.\n",
        "fapesp_arquivo = \"fapesp-corpora.tar.gz\"\n",
        "fapesp_caminho = os.path.join(corpora_caminho, fapesp_arquivo)\n",
        "\n",
        "# Inicia o processo de download do arquivo da base de dados da FAPESP.\n",
        "# A requisição GET é feita para a URL fornecida, com o parâmetro 'stream=True'\n",
        "# para permitir o download de grandes arquivos de forma eficiente.\n",
        "resposta = requests.get(url, stream=True)\n",
        "\n",
        "# Verifica se a requisição foi bem-sucedida (código de status HTTP 200).\n",
        "if resposta.status_code == 200:\n",
        "  # Abre o arquivo no caminho especificado em modo de escrita binária ('wb')\n",
        "  # para salvar os dados baixados.\n",
        "  with open(fapesp_caminho, \"wb\") as f:\n",
        "      for fragmento in resposta.raw.stream(2048):\n",
        "            f.write(fragmento)\n",
        "  print('Download concluído com sucesso!')\n",
        "else:\n",
        "  print('Falha no download:', resposta.status_code)"
      ],
      "metadata": {
        "id": "tuI6JsiqWZQj",
        "colab": {
          "base_uri": "https://localhost:8080/"
        },
        "outputId": "503b1cb3-f230-439d-8b28-1f706bc0501a"
      },
      "execution_count": 8,
      "outputs": [
        {
          "output_type": "stream",
          "name": "stdout",
          "text": [
            "Download concluído com sucesso!\n"
          ]
        }
      ]
    },
    {
      "cell_type": "code",
      "source": [
        "# Abre o arquivo tar.gz especificado pelo caminho 'fapesp_caminho' no modo de\n",
        "# leitura.\n",
        "with tarfile.open(fapesp_caminho, \"r:gz\") as tar:\n",
        "  # Extrai todo o conteúdo do arquivo tar.gz para o diretório especificado\n",
        "  # em 'corpora_path'.\n",
        "  tar.extractall(path=corpora_caminho)\n",
        "\n",
        "print(f\"Arquivo {fapesp_caminho} descompactado com sucesso!\")"
      ],
      "metadata": {
        "id": "vYa0uaiDX07m",
        "colab": {
          "base_uri": "https://localhost:8080/"
        },
        "outputId": "d2d0f671-550f-407e-8f0d-4f6046ad28ce"
      },
      "execution_count": 11,
      "outputs": [
        {
          "output_type": "stream",
          "name": "stdout",
          "text": [
            "Arquivo corpora/fapesp-corpora.tar.gz descompactado com sucesso!\n"
          ]
        }
      ]
    },
    {
      "cell_type": "code",
      "source": [
        "# Divide o nome do arquivo \"fapesp-corpora.tar.gz\" pelo ponto e pega a primeira parte\n",
        "fapesp_dir = fapesp_arquivo.split(\".\")[0]\n",
        "fapesp_dir_caminho = os.path.join(corpora_caminho, fapesp_dir)\n",
        "\n",
        "# O comando 'ls' do shell lista o conteúdo do diretório apontado\n",
        "# por 'fapesp_caminho'.\n",
        "!ls {fapesp_dir_caminho}"
      ],
      "metadata": {
        "id": "SeJ4dT34kpcM",
        "colab": {
          "base_uri": "https://localhost:8080/"
        },
        "outputId": "a24c85db-476d-46cb-a5c1-eb991688bfc7"
      },
      "execution_count": 12,
      "outputs": [
        {
          "output_type": "stream",
          "name": "stdout",
          "text": [
            "corpora  doc  README  README.html\n"
          ]
        }
      ]
    },
    {
      "cell_type": "markdown",
      "source": [
        "## Kaggle\n",
        "\n",
        "O Kaggle é uma plataforma online para competições de ciência de dados e aprendizado de máquina. Atualmente, essa plataforma disponibiliza mais de 601 conjuntos de dados relacionados ao processamento de linguagem natural. A maneira mais fácil de baixar essas bases é usando a sua API. Primeiro, é preciso criar um arquivo JSON com o token de acesso à API, seguindo as instruções neste [Link](https://scribehow.com/embed-preview/Create_a_New_Token_on_Kaggle__E160LnfsTU-n7vmkbVxang)."
      ],
      "metadata": {
        "id": "wdzl-vgzbUMH"
      }
    },
    {
      "cell_type": "code",
      "source": [
        "# Importa a função de upload de arquivos do Google Colab\n",
        "from google.colab import files\n",
        "\n",
        "# Abre uma interface para você selecionar e fazer upload\n",
        "# de arquivos para o Colab\n",
        "files.upload()"
      ],
      "metadata": {
        "id": "OKhS_jUeeO0i",
        "colab": {
          "base_uri": "https://localhost:8080/",
          "height": 90
        },
        "outputId": "02b3b957-b467-49ce-f0a7-08c0a256ddbe"
      },
      "execution_count": 13,
      "outputs": [
        {
          "output_type": "display_data",
          "data": {
            "text/plain": [
              "<IPython.core.display.HTML object>"
            ],
            "text/html": [
              "\n",
              "     <input type=\"file\" id=\"files-ea3e9127-79a7-4df6-82e9-12021b751b30\" name=\"files[]\" multiple disabled\n",
              "        style=\"border:none\" />\n",
              "     <output id=\"result-ea3e9127-79a7-4df6-82e9-12021b751b30\">\n",
              "      Upload widget is only available when the cell has been executed in the\n",
              "      current browser session. Please rerun this cell to enable.\n",
              "      </output>\n",
              "      <script>// Copyright 2017 Google LLC\n",
              "//\n",
              "// Licensed under the Apache License, Version 2.0 (the \"License\");\n",
              "// you may not use this file except in compliance with the License.\n",
              "// You may obtain a copy of the License at\n",
              "//\n",
              "//      http://www.apache.org/licenses/LICENSE-2.0\n",
              "//\n",
              "// Unless required by applicable law or agreed to in writing, software\n",
              "// distributed under the License is distributed on an \"AS IS\" BASIS,\n",
              "// WITHOUT WARRANTIES OR CONDITIONS OF ANY KIND, either express or implied.\n",
              "// See the License for the specific language governing permissions and\n",
              "// limitations under the License.\n",
              "\n",
              "/**\n",
              " * @fileoverview Helpers for google.colab Python module.\n",
              " */\n",
              "(function(scope) {\n",
              "function span(text, styleAttributes = {}) {\n",
              "  const element = document.createElement('span');\n",
              "  element.textContent = text;\n",
              "  for (const key of Object.keys(styleAttributes)) {\n",
              "    element.style[key] = styleAttributes[key];\n",
              "  }\n",
              "  return element;\n",
              "}\n",
              "\n",
              "// Max number of bytes which will be uploaded at a time.\n",
              "const MAX_PAYLOAD_SIZE = 100 * 1024;\n",
              "\n",
              "function _uploadFiles(inputId, outputId) {\n",
              "  const steps = uploadFilesStep(inputId, outputId);\n",
              "  const outputElement = document.getElementById(outputId);\n",
              "  // Cache steps on the outputElement to make it available for the next call\n",
              "  // to uploadFilesContinue from Python.\n",
              "  outputElement.steps = steps;\n",
              "\n",
              "  return _uploadFilesContinue(outputId);\n",
              "}\n",
              "\n",
              "// This is roughly an async generator (not supported in the browser yet),\n",
              "// where there are multiple asynchronous steps and the Python side is going\n",
              "// to poll for completion of each step.\n",
              "// This uses a Promise to block the python side on completion of each step,\n",
              "// then passes the result of the previous step as the input to the next step.\n",
              "function _uploadFilesContinue(outputId) {\n",
              "  const outputElement = document.getElementById(outputId);\n",
              "  const steps = outputElement.steps;\n",
              "\n",
              "  const next = steps.next(outputElement.lastPromiseValue);\n",
              "  return Promise.resolve(next.value.promise).then((value) => {\n",
              "    // Cache the last promise value to make it available to the next\n",
              "    // step of the generator.\n",
              "    outputElement.lastPromiseValue = value;\n",
              "    return next.value.response;\n",
              "  });\n",
              "}\n",
              "\n",
              "/**\n",
              " * Generator function which is called between each async step of the upload\n",
              " * process.\n",
              " * @param {string} inputId Element ID of the input file picker element.\n",
              " * @param {string} outputId Element ID of the output display.\n",
              " * @return {!Iterable<!Object>} Iterable of next steps.\n",
              " */\n",
              "function* uploadFilesStep(inputId, outputId) {\n",
              "  const inputElement = document.getElementById(inputId);\n",
              "  inputElement.disabled = false;\n",
              "\n",
              "  const outputElement = document.getElementById(outputId);\n",
              "  outputElement.innerHTML = '';\n",
              "\n",
              "  const pickedPromise = new Promise((resolve) => {\n",
              "    inputElement.addEventListener('change', (e) => {\n",
              "      resolve(e.target.files);\n",
              "    });\n",
              "  });\n",
              "\n",
              "  const cancel = document.createElement('button');\n",
              "  inputElement.parentElement.appendChild(cancel);\n",
              "  cancel.textContent = 'Cancel upload';\n",
              "  const cancelPromise = new Promise((resolve) => {\n",
              "    cancel.onclick = () => {\n",
              "      resolve(null);\n",
              "    };\n",
              "  });\n",
              "\n",
              "  // Wait for the user to pick the files.\n",
              "  const files = yield {\n",
              "    promise: Promise.race([pickedPromise, cancelPromise]),\n",
              "    response: {\n",
              "      action: 'starting',\n",
              "    }\n",
              "  };\n",
              "\n",
              "  cancel.remove();\n",
              "\n",
              "  // Disable the input element since further picks are not allowed.\n",
              "  inputElement.disabled = true;\n",
              "\n",
              "  if (!files) {\n",
              "    return {\n",
              "      response: {\n",
              "        action: 'complete',\n",
              "      }\n",
              "    };\n",
              "  }\n",
              "\n",
              "  for (const file of files) {\n",
              "    const li = document.createElement('li');\n",
              "    li.append(span(file.name, {fontWeight: 'bold'}));\n",
              "    li.append(span(\n",
              "        `(${file.type || 'n/a'}) - ${file.size} bytes, ` +\n",
              "        `last modified: ${\n",
              "            file.lastModifiedDate ? file.lastModifiedDate.toLocaleDateString() :\n",
              "                                    'n/a'} - `));\n",
              "    const percent = span('0% done');\n",
              "    li.appendChild(percent);\n",
              "\n",
              "    outputElement.appendChild(li);\n",
              "\n",
              "    const fileDataPromise = new Promise((resolve) => {\n",
              "      const reader = new FileReader();\n",
              "      reader.onload = (e) => {\n",
              "        resolve(e.target.result);\n",
              "      };\n",
              "      reader.readAsArrayBuffer(file);\n",
              "    });\n",
              "    // Wait for the data to be ready.\n",
              "    let fileData = yield {\n",
              "      promise: fileDataPromise,\n",
              "      response: {\n",
              "        action: 'continue',\n",
              "      }\n",
              "    };\n",
              "\n",
              "    // Use a chunked sending to avoid message size limits. See b/62115660.\n",
              "    let position = 0;\n",
              "    do {\n",
              "      const length = Math.min(fileData.byteLength - position, MAX_PAYLOAD_SIZE);\n",
              "      const chunk = new Uint8Array(fileData, position, length);\n",
              "      position += length;\n",
              "\n",
              "      const base64 = btoa(String.fromCharCode.apply(null, chunk));\n",
              "      yield {\n",
              "        response: {\n",
              "          action: 'append',\n",
              "          file: file.name,\n",
              "          data: base64,\n",
              "        },\n",
              "      };\n",
              "\n",
              "      let percentDone = fileData.byteLength === 0 ?\n",
              "          100 :\n",
              "          Math.round((position / fileData.byteLength) * 100);\n",
              "      percent.textContent = `${percentDone}% done`;\n",
              "\n",
              "    } while (position < fileData.byteLength);\n",
              "  }\n",
              "\n",
              "  // All done.\n",
              "  yield {\n",
              "    response: {\n",
              "      action: 'complete',\n",
              "    }\n",
              "  };\n",
              "}\n",
              "\n",
              "scope.google = scope.google || {};\n",
              "scope.google.colab = scope.google.colab || {};\n",
              "scope.google.colab._files = {\n",
              "  _uploadFiles,\n",
              "  _uploadFilesContinue,\n",
              "};\n",
              "})(self);\n",
              "</script> "
            ]
          },
          "metadata": {}
        },
        {
          "output_type": "stream",
          "name": "stdout",
          "text": [
            "Saving kaggle.json to kaggle.json\n"
          ]
        },
        {
          "output_type": "execute_result",
          "data": {
            "text/plain": [
              "{'kaggle.json': b'{\"username\":\"wellboanerges\",\"key\":\"2f33b985b23244bd71d64327b106e21e\"}'}"
            ]
          },
          "metadata": {},
          "execution_count": 13
        }
      ]
    },
    {
      "cell_type": "code",
      "source": [
        "# Cria um novo diretório chamado '.kaggle' na pasta home do usuário atual\n",
        "!mkdir ~/.kaggle"
      ],
      "metadata": {
        "id": "wgDeXUTdfYI9"
      },
      "execution_count": 14,
      "outputs": []
    },
    {
      "cell_type": "code",
      "source": [
        "# Copia o arquivo 'kaggle.json' para o diretório '.kaggle'\n",
        "# Este arquivo contém sua chave de API do Kaggle, necessária para acessar os datasets\n",
        "!cp kaggle.json ~/.kaggle/\n",
        "\n",
        "# Define as permissões do arquivo 'kaggle.json' para leitura pelo usuário\n",
        "# É necessário para manter sua chave de API segura\n",
        "!chmod 600 ~/.kaggle/kaggle.json"
      ],
      "metadata": {
        "id": "5OTiilVcfwNG"
      },
      "execution_count": 15,
      "outputs": []
    },
    {
      "cell_type": "code",
      "source": [
        "# Lista os datasets disponíveis no Kaggle que contêm a palavra 'commonlit'\n",
        "!kaggle datasets list -s commonlit"
      ],
      "metadata": {
        "id": "C6eMgM4wf9DY",
        "colab": {
          "base_uri": "https://localhost:8080/"
        },
        "outputId": "8a18a599-449c-454a-d6f8-56eb22aee9dd"
      },
      "execution_count": 16,
      "outputs": [
        {
          "output_type": "stream",
          "name": "stdout",
          "text": [
            "ref                                      title                        size  lastUpdated          downloadCount  voteCount  usabilityRating  \n",
            "---------------------------------------  ---------------------------  ----  -------------------  -------------  ---------  ---------------  \n",
            "kononenko/commonlit-texts                CommonLit Texts               6MB  2023-09-17 20:48:39            281         30  0.7058824        \n",
            "takoihiraokazu/commonlit-ex107           commonlit-ex107               7GB  2021-06-09 03:22:06             18         10  0.4375           \n",
            "takoihiraokazu/commonlit-ex064           commonlit-ex064               2GB  2021-06-03 05:29:12              9          9  0.4375           \n",
            "maunish/clrp-roberta-base                clrp roberta base             3GB  2021-06-29 09:07:26            967         79  0.75             \n",
            "takoihiraokazu/commonlit-ex182           commonlit-ex182               7GB  2021-06-21 04:26:18             19          7  0.4375           \n",
            "takoihiraokazu/commonlit-ex190           commonlit-ex190               6GB  2021-06-23 00:43:25             15          7  0.4375           \n",
            "takoihiraokazu/commonlit-ex465           commonlit-ex465               2GB  2021-07-31 05:31:09             10         28  0.4375           \n",
            "rhtsingh/roberta-large-itptfit           CommonLit RoBERTa Large I     6GB  2021-05-23 16:39:06            222         26  0.375            \n",
            "takoihiraokazu/commonlit-ex507           commonlit-ex507               5GB  2021-08-02 09:37:29              7         24  0.4375           \n",
            "douglaskgaraujo/commonlit-text-features  CommonLit Text Features       1MB  2021-06-22 01:19:50             54         14  0.9705882        \n",
            "rhtsingh/commonlit-roberta-base-i        CommonLit RoBERTa Base I      2GB  2021-05-28 12:53:42            275         25  0.3125           \n",
            "takoihiraokazu/commonlit-ex207           commonlit-ex207               2GB  2021-06-25 07:30:00              8          5  0.4375           \n",
            "andretugan/commonlit-roberta-0467        CommonLit Roberta Model Set   2GB  2021-06-30 15:03:46            122         12  0.47058824       \n",
            "takoihiraokazu/commonlit-ex072-2         commonlit-ex072-2             6GB  2021-06-04 01:17:43             17          8  0.4375           \n",
            "rhtsingh/commonlit-roberta-large-ii      CommonLit RoBERTa Large II    6GB  2021-05-28 12:53:00            174         21  0.3125           \n",
            "takoihiraokazu/commonlit-ex496           commonlit-ex496               2GB  2021-07-31 13:20:43              7         15  0.4375           \n",
            "andradaolteanu/commonlit-dataset         CommonLit Dataset             6GB  2021-06-24 15:55:43             15         11  0.5294118        \n",
            "bhavesjain/commonlit-ess-prompts         commonlit-ess-prompts        14KB  2023-10-10 07:41:20             12          8  0.88235295       \n",
            "takoihiraokazu/commonlit-ex272           commonlit-ex272               6GB  2021-07-05 00:36:41              8          4  0.4375           \n",
            "takoihiraokazu/commonlit-ex384           commonlit-ex384               6GB  2021-07-20 10:07:09              5          5  0.4375           \n"
          ]
        }
      ]
    },
    {
      "cell_type": "code",
      "source": [
        "# Exibe os arquivos disponíveis no dataset 'commonlit-texts' de 'kononenko'\n",
        "!kaggle datasets files kononenko/commonlit-texts"
      ],
      "metadata": {
        "id": "cbYDWeH_gh9d",
        "colab": {
          "base_uri": "https://localhost:8080/"
        },
        "outputId": "755d9d49-22aa-441b-bacf-51767f258f6c"
      },
      "execution_count": 17,
      "outputs": [
        {
          "output_type": "stream",
          "name": "stdout",
          "text": [
            "name                 size  creationDate         \n",
            "-------------------  ----  -------------------  \n",
            "commonlit_texts.csv  16MB  2023-09-17 20:48:42  \n"
          ]
        }
      ]
    },
    {
      "cell_type": "code",
      "source": [
        "# Baixa o dataset 'commonlit-texts' de 'kononenko' do Kaggle\n",
        "!kaggle datasets download kononenko/commonlit-texts"
      ],
      "metadata": {
        "id": "orJAucXqePxH",
        "colab": {
          "base_uri": "https://localhost:8080/"
        },
        "outputId": "7d1d3cf5-5090-45db-bf8e-3e7904f937cf"
      },
      "execution_count": 18,
      "outputs": [
        {
          "output_type": "stream",
          "name": "stdout",
          "text": [
            "Dataset URL: https://www.kaggle.com/datasets/kononenko/commonlit-texts\n",
            "License(s): other\n",
            "Downloading commonlit-texts.zip to /content\n",
            "  0% 0.00/5.97M [00:00<?, ?B/s]\n",
            "100% 5.97M/5.97M [00:00<00:00, 115MB/s]\n"
          ]
        }
      ]
    },
    {
      "cell_type": "code",
      "source": [
        "# Extrai os arquivos do zip 'commonlit-texts.zip' para a pasta 'corpora'\n",
        "!unzip commonlit-texts.zip -d corpora"
      ],
      "metadata": {
        "id": "VurQl7SvjdMO",
        "colab": {
          "base_uri": "https://localhost:8080/"
        },
        "outputId": "2f7ea75d-c864-4e7b-d0fa-9f1bf1f6b476"
      },
      "execution_count": 19,
      "outputs": [
        {
          "output_type": "stream",
          "name": "stdout",
          "text": [
            "Archive:  commonlit-texts.zip\n",
            "  inflating: corpora/commonlit_texts.csv  \n"
          ]
        }
      ]
    },
    {
      "cell_type": "code",
      "source": [
        "# Exibe as primeiras linhas do arquivo 'commonlit_texts.csv'\n",
        "!head -n5 corpora/commonlit_texts.csv"
      ],
      "metadata": {
        "id": "lWdkRvzFkEo8",
        "colab": {
          "base_uri": "https://localhost:8080/"
        },
        "outputId": "9e2d2f43-7c3a-489b-9ba8-c0dca12ab40e"
      },
      "execution_count": 20,
      "outputs": [
        {
          "output_type": "stream",
          "name": "stdout",
          "text": [
            "title,author,description,grade,genre,lexile,path,is_prose,date,intro,excerpt,license,notes\n",
            "\"(love song, with two goldfish)\",Grace Chua,The speaker describes a love story between two goldfish in a fish bowl.,8,Poem,,/en/texts/love-song-with-two-goldfish,0,2003,\"Grace Chua is an award-winning journalist whose work usually deals with science and the environment. In this poem, Chua explores the love between two goldfish living in a fish bowl.\n",
            "As you read, take notes on the use of puns throughout the poem and their multiple meanings.\",\"[1]\n",
            "(He's a drifter,\n",
            "A “drifter” is a person who is continually moving from place to place.\n"
          ]
        }
      ]
    }
  ]
}